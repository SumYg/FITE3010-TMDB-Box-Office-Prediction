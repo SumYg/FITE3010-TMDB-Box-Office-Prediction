{
 "cells": [
  {
   "cell_type": "code",
   "execution_count": 2,
   "metadata": {},
   "outputs": [],
   "source": [
    "import pandas as pd\n",
    "import numpy as np"
   ]
  },
  {
   "cell_type": "code",
   "execution_count": 91,
   "metadata": {},
   "outputs": [],
   "source": [
    "from sentence_transformers import SentenceTransformer"
   ]
  },
  {
   "cell_type": "code",
   "execution_count": 92,
   "metadata": {},
   "outputs": [
    {
     "ename": "",
     "evalue": "",
     "output_type": "error",
     "traceback": [
      "\u001b[1;31mCanceled future for execute_request message before replies were done"
     ]
    },
    {
     "ename": "",
     "evalue": "",
     "output_type": "error",
     "traceback": [
      "\u001b[1;31mThe Kernel crashed while executing code in the the current cell or a previous cell. Please review the code in the cell(s) to identify a possible cause of the failure. Click <a href='https://aka.ms/vscodeJupyterKernelCrash'>here</a> for more info. View Jupyter <a href='command:jupyter.viewOutput'>log</a> for further details."
     ]
    }
   ],
   "source": [
    "\n",
    "# Load the multilingual model\n",
    "multilingual_model = SentenceTransformer('paraphrase-xlm-r-multilingual-v1')\n",
    "# multilingual_model = SentenceTransformer('paraphrase-multilingual-mpnet-base-v2')\n",
    "\n",
    "# Define movie collection names in different languages\n",
    "movie_collection_names = [\n",
    "    \"Star Wars\", # English\n",
    "    \"Alien Nation Collection\", # French\n",
    "    \"Звёздные войны\", # Russian\n",
    "    \"星球大戰\", # Chinese\n",
    "    \"Самый лучший фильм - Коллекция\", # Japanese\n",
    "]\n",
    "\n",
    "# Convert movie collection names to fixed-size embeddings\n",
    "embeddings = multilingual_model.encode(movie_collection_names)\n",
    "\n",
    "print(embeddings)"
   ]
  },
  {
   "cell_type": "code",
   "execution_count": null,
   "metadata": {},
   "outputs": [
    {
     "data": {
      "text/plain": [
       "array([[1.        , 0.34524465, 0.9201319 , 0.7227432 , 0.1234644 ]],\n",
       "      dtype=float32)"
      ]
     },
     "execution_count": 4,
     "metadata": {},
     "output_type": "execute_result"
    }
   ],
   "source": [
    "from sklearn.metrics.pairwise import cosine_similarity\n",
    "\n",
    "cosine_similarity([embeddings[0]], embeddings)"
   ]
  },
  {
   "cell_type": "code",
   "execution_count": null,
   "metadata": {},
   "outputs": [
    {
     "data": {
      "text/plain": [
       "array([[1.        , 0.34524465, 0.9201319 , 0.7227432 , 0.1234644 ]],\n",
       "      dtype=float32)"
      ]
     },
     "execution_count": 5,
     "metadata": {},
     "output_type": "execute_result"
    }
   ],
   "source": [
    "cosine_similarity([embeddings[0]], embeddings)"
   ]
  },
  {
   "cell_type": "code",
   "execution_count": null,
   "metadata": {},
   "outputs": [
    {
     "data": {
      "text/plain": [
       "array([[1.        , 0.34524465, 0.9201319 , 0.7227432 , 0.1234644 ]],\n",
       "      dtype=float32)"
      ]
     },
     "execution_count": 6,
     "metadata": {},
     "output_type": "execute_result"
    }
   ],
   "source": [
    "cosine_similarity([embeddings[0]], embeddings)"
   ]
  },
  {
   "cell_type": "code",
   "execution_count": 3,
   "metadata": {},
   "outputs": [],
   "source": [
    "# read data\n",
    "df = pd.read_csv('data/train.csv')"
   ]
  },
  {
   "cell_type": "code",
   "execution_count": 4,
   "metadata": {},
   "outputs": [],
   "source": [
    "def convert_list_of_dict_str_to_list_of_dict(x):\n",
    "    if isinstance(x, str):\n",
    "        return eval(x)\n",
    "    else:\n",
    "        return []"
   ]
  },
  {
   "cell_type": "code",
   "execution_count": 5,
   "metadata": {},
   "outputs": [],
   "source": [
    "from sklearn.feature_extraction import DictVectorizer"
   ]
  },
  {
   "cell_type": "code",
   "execution_count": 6,
   "metadata": {},
   "outputs": [],
   "source": [
    "df['belongs_to_collection'] = df['belongs_to_collection'].apply(convert_list_of_dict_str_to_list_of_dict)"
   ]
  },
  {
   "cell_type": "code",
   "execution_count": 7,
   "metadata": {},
   "outputs": [],
   "source": [
    "collections = [d[0]['name'] if d else '' for d in df['belongs_to_collection'].tolist()]"
   ]
  },
  {
   "cell_type": "code",
   "execution_count": 8,
   "metadata": {},
   "outputs": [
    {
     "ename": "NameError",
     "evalue": "name 'multilingual_model' is not defined",
     "output_type": "error",
     "traceback": [
      "\u001b[0;31m---------------------------------------------------------------------------\u001b[0m",
      "\u001b[0;31mNameError\u001b[0m                                 Traceback (most recent call last)",
      "Cell \u001b[0;32mIn[8], line 1\u001b[0m\n\u001b[0;32m----> 1\u001b[0m embeddings \u001b[39m=\u001b[39m multilingual_model\u001b[39m.\u001b[39mencode(collections)\n",
      "\u001b[0;31mNameError\u001b[0m: name 'multilingual_model' is not defined"
     ]
    }
   ],
   "source": [
    "embeddings = multilingual_model.encode(collections)"
   ]
  },
  {
   "cell_type": "code",
   "execution_count": null,
   "metadata": {},
   "outputs": [
    {
     "data": {
      "text/plain": [
       "(3000, 768)"
      ]
     },
     "execution_count": 13,
     "metadata": {},
     "output_type": "execute_result"
    }
   ],
   "source": [
    "embeddings.shape"
   ]
  },
  {
   "cell_type": "code",
   "execution_count": 9,
   "metadata": {},
   "outputs": [],
   "source": [
    "df.drop('belongs_to_collection', axis=1, inplace=True)"
   ]
  },
  {
   "cell_type": "code",
   "execution_count": 10,
   "metadata": {},
   "outputs": [],
   "source": [
    "df['genres'] = df['genres'].apply(convert_list_of_dict_str_to_list_of_dict)"
   ]
  },
  {
   "cell_type": "code",
   "execution_count": 11,
   "metadata": {},
   "outputs": [],
   "source": [
    "from collections import Counter"
   ]
  },
  {
   "cell_type": "code",
   "execution_count": 12,
   "metadata": {},
   "outputs": [],
   "source": [
    "genres = [Counter([o['id'] for o in d])  for d in df['genres']]"
   ]
  },
  {
   "cell_type": "code",
   "execution_count": 13,
   "metadata": {},
   "outputs": [
    {
     "data": {
      "text/plain": [
       "[Counter({35: 1}),\n",
       " Counter({35: 1, 18: 1, 10751: 1, 10749: 1}),\n",
       " Counter({18: 1}),\n",
       " Counter({53: 1, 18: 1}),\n",
       " Counter({28: 1, 53: 1}),\n",
       " Counter({16: 1, 12: 1, 10751: 1}),\n",
       " Counter({27: 1, 53: 1}),\n",
       " Counter({99: 1}),\n",
       " Counter({28: 1, 35: 1, 10402: 1, 10751: 1, 12: 1}),\n",
       " Counter({35: 1, 10402: 1}),\n",
       " Counter({18: 1}),\n",
       " Counter({35: 1}),\n",
       " Counter({18: 1}),\n",
       " Counter({35: 1, 80: 1}),\n",
       " Counter({28: 1, 53: 1, 878: 1, 9648: 1}),\n",
       " Counter({28: 1, 80: 1, 18: 1}),\n",
       " Counter({27: 1, 53: 1}),\n",
       " Counter({18: 1, 10749: 1}),\n",
       " Counter({35: 1, 10749: 1}),\n",
       " Counter({28: 1, 53: 1, 80: 1}),\n",
       " Counter({12: 1, 10751: 1, 878: 1}),\n",
       " Counter({27: 1, 53: 1}),\n",
       " Counter({53: 1, 27: 1}),\n",
       " Counter({53: 1, 9648: 1, 10769: 1}),\n",
       " Counter({27: 1, 35: 1}),\n",
       " Counter({35: 1, 27: 1, 9648: 1, 53: 1}),\n",
       " Counter({80: 1, 18: 1, 9648: 1, 53: 1}),\n",
       " Counter({18: 1, 35: 1, 10749: 1}),\n",
       " Counter({16: 1}),\n",
       " Counter({28: 1, 12: 1, 80: 1, 53: 1}),\n",
       " Counter({18: 1, 35: 1}),\n",
       " Counter({9648: 1, 18: 1, 53: 1}),\n",
       " Counter({14: 1, 28: 1, 12: 1}),\n",
       " Counter({27: 1}),\n",
       " Counter({28: 1, 35: 1, 80: 1, 53: 1}),\n",
       " Counter({28: 1, 80: 1, 53: 1}),\n",
       " Counter({35: 1, 10749: 1}),\n",
       " Counter({28: 1, 18: 1, 878: 1, 53: 1}),\n",
       " Counter({53: 1}),\n",
       " Counter({10752: 1, 37: 1}),\n",
       " Counter({28: 1, 99: 1}),\n",
       " Counter({80: 1, 18: 1}),\n",
       " Counter({35: 1}),\n",
       " Counter({18: 1}),\n",
       " Counter({35: 1, 10749: 1}),\n",
       " Counter({80: 1, 18: 1, 9648: 1, 10749: 1, 53: 1}),\n",
       " Counter({16: 1, 10751: 1, 35: 1, 12: 1}),\n",
       " Counter({80: 1, 18: 1, 9648: 1, 37: 1}),\n",
       " Counter({18: 1, 35: 1}),\n",
       " Counter({878: 1, 28: 1, 12: 1, 53: 1}),\n",
       " Counter({10749: 1, 18: 1, 35: 1}),\n",
       " Counter({12: 1, 35: 1}),\n",
       " Counter({12: 1, 10751: 1}),\n",
       " Counter({18: 1, 10751: 1, 10749: 1}),\n",
       " Counter({28: 1}),\n",
       " Counter({35: 1, 18: 1, 10749: 1}),\n",
       " Counter({35: 1, 18: 1}),\n",
       " Counter({28: 1, 80: 1, 14: 1}),\n",
       " Counter({10402: 1, 10749: 1}),\n",
       " Counter({28: 1, 12: 1, 35: 1}),\n",
       " Counter({12: 1, 28: 1, 53: 1}),\n",
       " Counter({18: 1}),\n",
       " Counter({53: 1, 14: 1, 80: 1, 18: 1}),\n",
       " Counter({27: 1, 53: 1}),\n",
       " Counter({18: 1, 12: 1}),\n",
       " Counter({28: 1}),\n",
       " Counter({80: 1, 35: 1}),\n",
       " Counter({18: 1}),\n",
       " Counter({80: 1, 18: 1}),\n",
       " Counter({28: 1, 80: 1, 18: 1, 53: 1}),\n",
       " Counter({18: 1, 9648: 1, 53: 1, 14: 1}),\n",
       " Counter({18: 1}),\n",
       " Counter({35: 1, 10402: 1}),\n",
       " Counter({80: 1, 99: 1}),\n",
       " Counter({80: 1, 18: 1}),\n",
       " Counter({27: 1, 35: 1}),\n",
       " Counter({18: 1, 10749: 1, 10769: 1}),\n",
       " Counter({35: 1}),\n",
       " Counter({80: 1, 18: 1, 28: 1, 53: 1}),\n",
       " Counter({27: 1, 53: 1}),\n",
       " Counter({28: 1, 80: 1, 18: 1, 53: 1}),\n",
       " Counter({35: 1, 18: 1, 10749: 1}),\n",
       " Counter({18: 1, 27: 1, 9648: 1, 53: 1}),\n",
       " Counter({53: 1, 878: 1}),\n",
       " Counter({27: 1, 9648: 1}),\n",
       " Counter({28: 1, 12: 1, 18: 1, 9648: 1, 878: 1, 53: 1}),\n",
       " Counter({18: 1}),\n",
       " Counter({80: 1, 28: 1, 35: 1, 53: 1}),\n",
       " Counter({18: 1, 36: 1}),\n",
       " Counter({18: 1, 53: 1, 9648: 1, 10749: 1}),\n",
       " Counter({28: 1, 80: 1}),\n",
       " Counter({18: 1}),\n",
       " Counter({10752: 1, 12: 1, 18: 1, 10749: 1}),\n",
       " Counter({18: 1, 36: 1}),\n",
       " Counter({53: 1, 18: 1, 9648: 1}),\n",
       " Counter({18: 1}),\n",
       " Counter({28: 1, 35: 1, 53: 1, 10749: 1}),\n",
       " Counter({14: 1, 18: 1}),\n",
       " Counter({16: 1, 35: 1, 12: 1, 10751: 1}),\n",
       " Counter({28: 1, 80: 1, 18: 1}),\n",
       " Counter({28: 1, 53: 1, 878: 1, 80: 1, 27: 1}),\n",
       " Counter({18: 1, 10749: 1}),\n",
       " Counter({28: 1, 35: 1, 80: 1, 10769: 1}),\n",
       " Counter({18: 1}),\n",
       " Counter({35: 1}),\n",
       " Counter({18: 1}),\n",
       " Counter({18: 1}),\n",
       " Counter({28: 1, 18: 1, 36: 1, 10752: 1}),\n",
       " Counter({18: 1, 35: 1, 10749: 1}),\n",
       " Counter({18: 1, 12: 1, 10749: 1}),\n",
       " Counter({28: 1, 35: 1, 80: 1, 10749: 1}),\n",
       " Counter({35: 1, 10749: 1, 18: 1}),\n",
       " Counter({53: 1, 18: 1, 12: 1, 28: 1, 36: 1}),\n",
       " Counter({35: 1, 18: 1, 10749: 1}),\n",
       " Counter({12: 1, 14: 1, 28: 1}),\n",
       " Counter({28: 1, 35: 1}),\n",
       " Counter({18: 1}),\n",
       " Counter({28: 1, 12: 1, 35: 1}),\n",
       " Counter({18: 1, 10749: 1}),\n",
       " Counter({80: 1, 28: 1, 35: 1}),\n",
       " Counter({28: 1, 35: 1, 80: 1, 53: 1}),\n",
       " Counter({12: 1, 16: 1, 18: 1, 10751: 1}),\n",
       " Counter({28: 1, 35: 1, 80: 1, 9648: 1, 53: 1}),\n",
       " Counter({28: 1, 80: 1, 53: 1}),\n",
       " Counter({35: 1, 18: 1, 10749: 1}),\n",
       " Counter({18: 1, 10752: 1}),\n",
       " Counter({28: 1, 12: 1, 35: 1}),\n",
       " Counter({27: 1, 18: 1, 53: 1, 9648: 1}),\n",
       " Counter({27: 1, 53: 1}),\n",
       " Counter({18: 1}),\n",
       " Counter({35: 1}),\n",
       " Counter({18: 1, 53: 1}),\n",
       " Counter({99: 1, 36: 1}),\n",
       " Counter({35: 1, 18: 1}),\n",
       " Counter({35: 1, 10749: 1}),\n",
       " Counter({12: 1, 35: 1, 18: 1}),\n",
       " Counter({18: 1, 10751: 1}),\n",
       " Counter({35: 1}),\n",
       " Counter({53: 1}),\n",
       " Counter({12: 1, 28: 1, 878: 1, 53: 1}),\n",
       " Counter({18: 1, 10402: 1, 10749: 1}),\n",
       " Counter({18: 1, 10749: 1}),\n",
       " Counter({18: 1, 35: 1}),\n",
       " Counter({18: 1}),\n",
       " Counter({27: 1, 80: 1, 53: 1}),\n",
       " Counter({18: 1, 9648: 1, 10749: 1}),\n",
       " Counter({35: 1, 80: 1}),\n",
       " Counter({28: 1, 878: 1, 18: 1}),\n",
       " Counter({35: 1, 10751: 1}),\n",
       " Counter({53: 1, 12: 1, 18: 1}),\n",
       " Counter({12: 1, 18: 1, 37: 1}),\n",
       " Counter({99: 1}),\n",
       " Counter({18: 1, 14: 1, 27: 1}),\n",
       " Counter({53: 1}),\n",
       " Counter({28: 1, 80: 1, 53: 1}),\n",
       " Counter({12: 1, 14: 1, 16: 1, 10751: 1}),\n",
       " Counter({28: 1}),\n",
       " Counter({28: 1, 12: 1, 878: 1}),\n",
       " Counter({28: 1, 18: 1, 53: 1, 80: 1}),\n",
       " Counter({28: 1, 37: 1}),\n",
       " Counter({35: 1, 18: 1}),\n",
       " Counter({35: 1, 10749: 1}),\n",
       " Counter({18: 1, 35: 1}),\n",
       " Counter({35: 1, 18: 1}),\n",
       " Counter({53: 1, 27: 1}),\n",
       " Counter({14: 1, 28: 1, 35: 1, 878: 1, 10749: 1}),\n",
       " Counter({99: 1, 10402: 1}),\n",
       " Counter({80: 1, 18: 1, 27: 1, 53: 1}),\n",
       " Counter({9648: 1, 35: 1, 80: 1}),\n",
       " Counter({12: 1, 28: 1, 53: 1, 878: 1}),\n",
       " Counter({35: 1, 80: 1}),\n",
       " Counter({80: 1, 18: 1, 9648: 1, 53: 1}),\n",
       " Counter({28: 1, 18: 1, 53: 1, 80: 1, 9648: 1}),\n",
       " Counter({12: 1}),\n",
       " Counter({35: 1}),\n",
       " Counter({28: 1, 80: 1, 53: 1}),\n",
       " Counter({27: 1, 878: 1, 53: 1}),\n",
       " Counter({18: 1, 10749: 1}),\n",
       " Counter({28: 1, 12: 1, 53: 1, 10752: 1}),\n",
       " Counter({12: 1, 28: 1, 53: 1}),\n",
       " Counter({53: 1, 80: 1, 18: 1}),\n",
       " Counter({18: 1}),\n",
       " Counter({35: 1, 10749: 1}),\n",
       " Counter({12: 1, 18: 1, 28: 1}),\n",
       " Counter({35: 1, 18: 1, 14: 1, 10749: 1}),\n",
       " Counter({18: 1, 80: 1}),\n",
       " Counter({35: 1}),\n",
       " Counter({18: 1, 9648: 1}),\n",
       " Counter({16: 1, 10751: 1}),\n",
       " Counter({18: 1, 35: 1}),\n",
       " Counter({27: 1, 53: 1, 878: 1}),\n",
       " Counter({10749: 1, 35: 1, 18: 1}),\n",
       " Counter({35: 1}),\n",
       " Counter({28: 1, 80: 1, 18: 1, 53: 1}),\n",
       " Counter({35: 1, 18: 1}),\n",
       " Counter({18: 1}),\n",
       " Counter({27: 1}),\n",
       " Counter({28: 1, 53: 1, 80: 1}),\n",
       " Counter({28: 1, 35: 1, 18: 1}),\n",
       " Counter({18: 1, 80: 1}),\n",
       " Counter({35: 1, 10751: 1, 14: 1}),\n",
       " Counter({10402: 1, 35: 1, 18: 1, 10749: 1, 878: 1}),\n",
       " Counter({16: 1, 35: 1, 10751: 1}),\n",
       " Counter({16: 1, 35: 1, 10751: 1}),\n",
       " Counter({27: 1, 35: 1, 10749: 1}),\n",
       " Counter({80: 1, 18: 1, 53: 1}),\n",
       " Counter({80: 1, 18: 1, 53: 1}),\n",
       " Counter({28: 1, 12: 1, 878: 1, 10751: 1, 14: 1}),\n",
       " Counter({14: 1, 27: 1, 878: 1}),\n",
       " Counter({37: 1, 12: 1}),\n",
       " Counter({27: 1, 35: 1}),\n",
       " Counter({27: 1, 53: 1, 12: 1}),\n",
       " Counter({28: 1, 35: 1, 10751: 1}),\n",
       " Counter({28: 1}),\n",
       " Counter({53: 1, 80: 1, 18: 1}),\n",
       " Counter({35: 1, 80: 1}),\n",
       " Counter({14: 1, 16: 1, 10751: 1}),\n",
       " Counter({28: 1, 35: 1}),\n",
       " Counter({35: 1}),\n",
       " Counter({99: 1}),\n",
       " Counter({18: 1, 36: 1, 10752: 1}),\n",
       " Counter({35: 1, 10749: 1}),\n",
       " Counter({35: 1, 18: 1, 10749: 1}),\n",
       " Counter({53: 1, 9648: 1}),\n",
       " Counter({35: 1}),\n",
       " Counter({28: 1, 12: 1, 18: 1, 36: 1}),\n",
       " Counter({14: 1, 53: 1, 28: 1, 80: 1}),\n",
       " Counter({18: 1, 10749: 1}),\n",
       " Counter({12: 1, 37: 1}),\n",
       " Counter({18: 1, 10749: 1}),\n",
       " Counter({28: 1, 12: 1, 35: 1}),\n",
       " Counter({18: 1, 10749: 1}),\n",
       " Counter({35: 1, 18: 1}),\n",
       " Counter({37: 1, 99: 1}),\n",
       " Counter({28: 1, 12: 1, 18: 1, 36: 1}),\n",
       " Counter({12: 1, 10751: 1}),\n",
       " Counter({27: 1, 35: 1}),\n",
       " Counter({35: 1}),\n",
       " Counter({14: 1, 18: 1, 53: 1, 9648: 1, 10749: 1}),\n",
       " Counter({18: 1, 10749: 1, 35: 1, 10402: 1}),\n",
       " Counter({28: 1, 18: 1}),\n",
       " Counter({16: 1, 10402: 1, 10751: 1}),\n",
       " Counter({16: 1}),\n",
       " Counter({35: 1, 18: 1, 10749: 1}),\n",
       " Counter({10749: 1, 35: 1, 27: 1}),\n",
       " Counter({35: 1, 12: 1, 10749: 1}),\n",
       " Counter({10749: 1, 35: 1, 80: 1, 14: 1}),\n",
       " Counter({18: 1, 36: 1, 10752: 1}),\n",
       " Counter({28: 1, 80: 1, 53: 1}),\n",
       " Counter({9648: 1}),\n",
       " Counter({35: 1}),\n",
       " Counter({28: 1, 12: 1}),\n",
       " Counter({35: 1, 27: 1}),\n",
       " Counter({18: 1}),\n",
       " Counter({35: 1, 18: 1}),\n",
       " Counter({35: 1}),\n",
       " Counter({12: 1, 18: 1}),\n",
       " Counter({18: 1, 28: 1, 37: 1, 10402: 1, 10749: 1}),\n",
       " Counter({28: 1, 16: 1, 878: 1}),\n",
       " Counter({18: 1}),\n",
       " Counter({18: 1, 10751: 1}),\n",
       " Counter({35: 1}),\n",
       " Counter({18: 1, 10749: 1}),\n",
       " Counter({878: 1}),\n",
       " Counter({18: 1, 53: 1}),\n",
       " Counter({80: 1, 18: 1}),\n",
       " Counter({12: 1, 18: 1}),\n",
       " Counter({35: 1}),\n",
       " Counter({12: 1, 28: 1, 10751: 1}),\n",
       " Counter({99: 1, 10769: 1, 10402: 1}),\n",
       " Counter({10751: 1, 35: 1}),\n",
       " Counter({35: 1}),\n",
       " Counter({28: 1, 53: 1}),\n",
       " Counter({10751: 1, 35: 1}),\n",
       " Counter({35: 1, 10749: 1}),\n",
       " Counter({99: 1}),\n",
       " Counter({27: 1, 14: 1, 53: 1}),\n",
       " Counter({28: 1, 12: 1, 35: 1, 10749: 1}),\n",
       " Counter({18: 1}),\n",
       " Counter({18: 1, 80: 1, 53: 1}),\n",
       " Counter({27: 1, 53: 1}),\n",
       " Counter({27: 1, 53: 1}),\n",
       " Counter({35: 1, 18: 1, 10749: 1}),\n",
       " Counter({18: 1}),\n",
       " Counter({80: 1, 18: 1, 53: 1}),\n",
       " Counter({35: 1, 878: 1, 53: 1, 12: 1}),\n",
       " Counter({27: 1, 53: 1}),\n",
       " Counter({53: 1, 35: 1, 80: 1, 10749: 1}),\n",
       " Counter({28: 1, 18: 1}),\n",
       " Counter({16: 1, 18: 1, 10751: 1, 14: 1}),\n",
       " Counter({35: 1, 18: 1, 10749: 1}),\n",
       " Counter({80: 1, 18: 1, 53: 1}),\n",
       " Counter({18: 1, 10752: 1}),\n",
       " Counter({28: 1, 18: 1, 10769: 1, 36: 1, 53: 1}),\n",
       " Counter({28: 1, 12: 1, 878: 1}),\n",
       " Counter({28: 1, 14: 1, 878: 1}),\n",
       " Counter({18: 1}),\n",
       " Counter({28: 1, 80: 1, 18: 1}),\n",
       " Counter({35: 1}),\n",
       " Counter({14: 1, 28: 1, 35: 1, 878: 1}),\n",
       " Counter({28: 1, 27: 1}),\n",
       " Counter({35: 1, 10749: 1}),\n",
       " Counter({35: 1, 10402: 1, 10749: 1}),\n",
       " Counter({18: 1, 53: 1}),\n",
       " Counter({28: 1, 10752: 1}),\n",
       " Counter({18: 1, 36: 1, 80: 1}),\n",
       " Counter({10751: 1, 14: 1}),\n",
       " Counter({80: 1, 18: 1}),\n",
       " Counter({35: 1, 18: 1}),\n",
       " Counter({35: 1}),\n",
       " Counter({18: 1, 53: 1, 9648: 1}),\n",
       " Counter({18: 1, 10749: 1}),\n",
       " Counter({35: 1, 18: 1}),\n",
       " Counter({18: 1, 35: 1}),\n",
       " Counter({10751: 1, 35: 1, 16: 1, 12: 1}),\n",
       " Counter({80: 1, 18: 1, 9648: 1}),\n",
       " Counter({16: 1, 12: 1, 10751: 1, 35: 1}),\n",
       " Counter({878: 1, 28: 1, 18: 1, 53: 1}),\n",
       " Counter({14: 1, 9648: 1, 53: 1}),\n",
       " Counter({80: 1, 18: 1, 10749: 1, 53: 1}),\n",
       " Counter({28: 1, 53: 1}),\n",
       " Counter({12: 1, 14: 1, 18: 1, 35: 1, 878: 1, 10751: 1}),\n",
       " Counter({37: 1, 18: 1, 12: 1, 53: 1}),\n",
       " Counter({18: 1, 28: 1, 53: 1, 80: 1}),\n",
       " Counter({28: 1, 35: 1, 10749: 1}),\n",
       " Counter({35: 1, 10751: 1, 14: 1}),\n",
       " Counter({35: 1}),\n",
       " Counter({28: 1, 53: 1, 80: 1, 18: 1}),\n",
       " Counter({18: 1, 10749: 1}),\n",
       " Counter({16: 1, 35: 1}),\n",
       " Counter({10749: 1, 12: 1}),\n",
       " Counter({18: 1, 28: 1, 36: 1}),\n",
       " Counter({35: 1, 18: 1, 10749: 1}),\n",
       " Counter({10752: 1, 28: 1, 18: 1}),\n",
       " Counter({28: 1, 18: 1}),\n",
       " Counter({18: 1}),\n",
       " Counter({53: 1, 80: 1}),\n",
       " Counter({9648: 1, 18: 1, 14: 1}),\n",
       " Counter({18: 1}),\n",
       " Counter({18: 1, 36: 1}),\n",
       " Counter({35: 1}),\n",
       " Counter({18: 1, 9648: 1, 53: 1, 80: 1}),\n",
       " Counter({35: 1, 10749: 1}),\n",
       " Counter({10752: 1, 18: 1, 28: 1}),\n",
       " Counter({28: 1, 18: 1, 53: 1}),\n",
       " Counter({35: 1, 10749: 1}),\n",
       " Counter({18: 1, 10749: 1}),\n",
       " Counter({14: 1, 18: 1, 35: 1, 10751: 1, 12: 1}),\n",
       " Counter({12: 1, 16: 1, 14: 1}),\n",
       " Counter({99: 1}),\n",
       " Counter({18: 1, 28: 1}),\n",
       " Counter({12: 1, 28: 1, 53: 1}),\n",
       " Counter({35: 1}),\n",
       " Counter({28: 1, 35: 1}),\n",
       " Counter({28: 1, 80: 1}),\n",
       " Counter({99: 1}),\n",
       " Counter({28: 1, 12: 1, 35: 1, 18: 1, 9648: 1}),\n",
       " Counter({10751: 1, 16: 1, 18: 1}),\n",
       " Counter({28: 1, 10752: 1, 878: 1}),\n",
       " Counter({14: 1, 18: 1}),\n",
       " Counter({10751: 1, 99: 1, 12: 1}),\n",
       " Counter({28: 1, 35: 1, 80: 1}),\n",
       " Counter({18: 1, 10752: 1}),\n",
       " Counter({18: 1, 10749: 1}),\n",
       " Counter({18: 1, 53: 1}),\n",
       " Counter({878: 1, 18: 1, 53: 1}),\n",
       " Counter({18: 1}),\n",
       " Counter({10751: 1, 12: 1, 35: 1, 14: 1}),\n",
       " Counter({18: 1, 35: 1, 10749: 1}),\n",
       " Counter({53: 1, 27: 1}),\n",
       " Counter({35: 1, 18: 1}),\n",
       " Counter({18: 1, 35: 1, 10749: 1, 10769: 1}),\n",
       " Counter({28: 1, 18: 1, 53: 1, 10752: 1}),\n",
       " Counter({35: 1, 53: 1, 18: 1}),\n",
       " Counter({27: 1, 878: 1}),\n",
       " Counter({878: 1}),\n",
       " Counter({16: 1, 10751: 1}),\n",
       " Counter({18: 1, 53: 1, 80: 1}),\n",
       " Counter({16: 1, 10751: 1, 12: 1}),\n",
       " Counter({18: 1, 10402: 1}),\n",
       " Counter({18: 1, 53: 1, 28: 1}),\n",
       " Counter({12: 1, 18: 1, 10751: 1}),\n",
       " Counter({80: 1, 18: 1, 53: 1}),\n",
       " Counter({18: 1, 10749: 1}),\n",
       " Counter({18: 1}),\n",
       " Counter({10751: 1, 35: 1}),\n",
       " Counter({18: 1}),\n",
       " Counter({18: 1, 10749: 1}),\n",
       " Counter({28: 1, 80: 1, 18: 1, 53: 1}),\n",
       " Counter({35: 1}),\n",
       " Counter({35: 1}),\n",
       " Counter({12: 1, 18: 1, 36: 1}),\n",
       " Counter({18: 1}),\n",
       " Counter({10751: 1, 35: 1}),\n",
       " Counter({35: 1}),\n",
       " Counter({35: 1, 18: 1}),\n",
       " Counter({35: 1, 99: 1}),\n",
       " Counter({18: 1, 27: 1, 878: 1, 53: 1}),\n",
       " Counter({28: 1, 12: 1, 18: 1, 36: 1, 10749: 1, 10752: 1}),\n",
       " Counter({35: 1, 80: 1, 27: 1, 53: 1}),\n",
       " Counter({10749: 1, 35: 1}),\n",
       " Counter({18: 1, 36: 1}),\n",
       " Counter({18: 1}),\n",
       " Counter({28: 1}),\n",
       " Counter({28: 1, 27: 1, 53: 1, 878: 1}),\n",
       " Counter({27: 1, 53: 1, 9648: 1}),\n",
       " Counter({16: 1, 35: 1, 14: 1}),\n",
       " Counter({53: 1}),\n",
       " Counter({12: 1, 35: 1, 878: 1}),\n",
       " Counter({18: 1}),\n",
       " Counter({27: 1, 28: 1, 53: 1, 878: 1}),\n",
       " Counter({18: 1, 36: 1}),\n",
       " Counter({10749: 1}),\n",
       " Counter({35: 1, 10749: 1}),\n",
       " Counter({35: 1}),\n",
       " Counter({80: 1, 18: 1, 9648: 1, 53: 1}),\n",
       " Counter({18: 1}),\n",
       " Counter({12: 1, 27: 1, 53: 1}),\n",
       " Counter({80: 1, 18: 1}),\n",
       " Counter({35: 1, 10769: 1}),\n",
       " Counter({14: 1, 35: 1, 10749: 1}),\n",
       " Counter({27: 1, 53: 1}),\n",
       " Counter({28: 1, 35: 1}),\n",
       " Counter({80: 1, 53: 1, 9648: 1}),\n",
       " Counter({35: 1, 18: 1}),\n",
       " Counter({18: 1, 14: 1}),\n",
       " Counter({35: 1, 10751: 1}),\n",
       " Counter({35: 1}),\n",
       " Counter({18: 1, 9648: 1, 53: 1}),\n",
       " Counter({18: 1, 9648: 1, 53: 1}),\n",
       " Counter({35: 1}),\n",
       " Counter({878: 1, 53: 1}),\n",
       " Counter({80: 1, 18: 1, 9648: 1}),\n",
       " Counter({28: 1, 35: 1, 80: 1, 10749: 1}),\n",
       " Counter({12: 1, 35: 1, 18: 1, 878: 1}),\n",
       " Counter({10751: 1, 12: 1, 18: 1}),\n",
       " Counter({18: 1, 36: 1}),\n",
       " Counter({12: 1, 28: 1, 35: 1}),\n",
       " Counter({35: 1, 10749: 1}),\n",
       " Counter({18: 1}),\n",
       " Counter({28: 1, 10752: 1}),\n",
       " Counter({18: 1, 53: 1}),\n",
       " Counter({99: 1}),\n",
       " Counter({9648: 1, 53: 1}),\n",
       " Counter({18: 1, 10749: 1}),\n",
       " Counter({35: 1, 18: 1}),\n",
       " Counter({12: 1, 28: 1, 878: 1, 53: 1}),\n",
       " Counter({14: 1, 18: 1, 35: 1, 10751: 1}),\n",
       " Counter({28: 1, 53: 1}),\n",
       " Counter({53: 1, 878: 1, 12: 1, 28: 1}),\n",
       " Counter({35: 1, 10749: 1}),\n",
       " Counter({18: 1, 80: 1, 53: 1}),\n",
       " Counter({10402: 1, 10749: 1, 18: 1}),\n",
       " Counter({27: 1, 53: 1, 10752: 1}),\n",
       " Counter({35: 1, 18: 1, 10749: 1}),\n",
       " Counter({27: 1}),\n",
       " Counter({18: 1, 9648: 1}),\n",
       " Counter({18: 1}),\n",
       " Counter({10749: 1, 35: 1, 10751: 1}),\n",
       " Counter({53: 1, 28: 1, 80: 1}),\n",
       " Counter({36: 1, 18: 1}),\n",
       " Counter({35: 1, 10751: 1}),\n",
       " Counter({18: 1, 878: 1, 9648: 1}),\n",
       " Counter({35: 1, 18: 1, 10751: 1}),\n",
       " Counter({35: 1, 10751: 1, 878: 1}),\n",
       " Counter({80: 1, 18: 1, 53: 1}),\n",
       " Counter({18: 1}),\n",
       " Counter({35: 1}),\n",
       " Counter({18: 1}),\n",
       " Counter({12: 1, 18: 1, 28: 1, 10749: 1, 10751: 1}),\n",
       " Counter(),\n",
       " Counter({35: 1}),\n",
       " Counter({18: 1, 80: 1, 53: 1}),\n",
       " Counter({28: 1, 35: 1, 18: 1, 36: 1}),\n",
       " Counter({10751: 1, 16: 1}),\n",
       " Counter({27: 1}),\n",
       " Counter({35: 1, 18: 1}),\n",
       " Counter({35: 1, 18: 1}),\n",
       " Counter({28: 1, 12: 1, 18: 1, 53: 1}),\n",
       " Counter({14: 1, 18: 1, 35: 1, 878: 1, 10749: 1}),\n",
       " Counter({37: 1}),\n",
       " Counter({28: 1, 12: 1, 35: 1, 18: 1}),\n",
       " Counter({35: 1, 18: 1, 10749: 1}),\n",
       " Counter({18: 1}),\n",
       " Counter({35: 1, 10749: 1}),\n",
       " Counter({80: 1, 18: 1, 36: 1}),\n",
       " Counter({18: 1, 10749: 1}),\n",
       " Counter({12: 1, 16: 1, 35: 1, 18: 1, 14: 1}),\n",
       " Counter({27: 1, 53: 1}),\n",
       " Counter({18: 1, 27: 1, 878: 1}),\n",
       " Counter({16: 1, 35: 1, 18: 1}),\n",
       " Counter({28: 1, 12: 1, 18: 1, 36: 1}),\n",
       " Counter({80: 1, 18: 1, 53: 1}),\n",
       " Counter({18: 1, 10749: 1}),\n",
       " Counter({80: 1, 18: 1, 9648: 1, 53: 1}),\n",
       " Counter({28: 1, 53: 1}),\n",
       " Counter({27: 1, 9648: 1, 878: 1}),\n",
       " Counter({28: 1, 12: 1, 53: 1}),\n",
       " Counter({99: 1}),\n",
       " Counter({16: 1, 35: 1, 10751: 1}),\n",
       " Counter({10752: 1, 18: 1}),\n",
       " Counter({35: 1, 18: 1, 10749: 1}),\n",
       " Counter({28: 1, 18: 1, 53: 1}),\n",
       " Counter({9648: 1, 80: 1, 18: 1}),\n",
       " Counter({37: 1}),\n",
       " Counter({28: 1, 18: 1, 10752: 1}),\n",
       " Counter({35: 1, 18: 1}),\n",
       " Counter({53: 1, 80: 1, 28: 1}),\n",
       " Counter({9648: 1, 18: 1, 53: 1}),\n",
       " Counter({27: 1}),\n",
       " Counter({80: 1, 18: 1}),\n",
       " Counter({35: 1, 18: 1, 10751: 1, 14: 1}),\n",
       " Counter({35: 1, 18: 1, 10749: 1}),\n",
       " Counter({53: 1, 878: 1, 28: 1, 80: 1}),\n",
       " Counter({18: 1, 10402: 1, 10749: 1}),\n",
       " Counter({27: 1, 9648: 1, 53: 1}),\n",
       " Counter({10749: 1, 18: 1}),\n",
       " Counter({18: 1, 10749: 1}),\n",
       " Counter({28: 1, 12: 1, 14: 1}),\n",
       " Counter({18: 1}),\n",
       " Counter({28: 1, 80: 1, 18: 1}),\n",
       " Counter({99: 1, 10402: 1}),\n",
       " Counter({18: 1}),\n",
       " Counter({18: 1, 36: 1}),\n",
       " Counter({28: 1, 18: 1, 53: 1}),\n",
       " Counter({12: 1, 28: 1, 53: 1, 80: 1}),\n",
       " Counter({12: 1, 35: 1, 10749: 1}),\n",
       " Counter({35: 1, 10749: 1}),\n",
       " Counter({10749: 1, 35: 1, 80: 1}),\n",
       " Counter({35: 1, 18: 1, 10751: 1, 14: 1, 10749: 1}),\n",
       " Counter({18: 1}),\n",
       " Counter({99: 1, 10402: 1}),\n",
       " Counter({10751: 1, 12: 1}),\n",
       " Counter({28: 1, 878: 1, 12: 1, 53: 1}),\n",
       " Counter({18: 1, 10749: 1}),\n",
       " Counter({18: 1, 10752: 1}),\n",
       " Counter({35: 1}),\n",
       " Counter({28: 1, 12: 1, 53: 1}),\n",
       " Counter({12: 1, 28: 1}),\n",
       " Counter({35: 1, 99: 1}),\n",
       " Counter({12: 1, 10751: 1, 14: 1}),\n",
       " Counter({35: 1, 18: 1}),\n",
       " Counter({27: 1, 9648: 1, 53: 1}),\n",
       " Counter({12: 1, 14: 1, 28: 1}),\n",
       " Counter({35: 1, 18: 1, 10402: 1, 10749: 1}),\n",
       " Counter({28: 1, 12: 1, 18: 1}),\n",
       " Counter({18: 1, 35: 1}),\n",
       " Counter({53: 1, 35: 1, 14: 1, 27: 1}),\n",
       " Counter({27: 1, 53: 1}),\n",
       " Counter({99: 1}),\n",
       " Counter({53: 1, 18: 1}),\n",
       " Counter({80: 1, 28: 1, 878: 1}),\n",
       " Counter({27: 1, 53: 1}),\n",
       " Counter({35: 1, 80: 1, 10749: 1, 18: 1}),\n",
       " Counter({16: 1, 878: 1}),\n",
       " Counter({28: 1, 12: 1, 80: 1, 18: 1, 53: 1}),\n",
       " Counter({12: 1, 18: 1}),\n",
       " Counter({35: 1}),\n",
       " Counter({35: 1, 18: 1, 36: 1}),\n",
       " Counter({12: 1, 10751: 1}),\n",
       " Counter({18: 1}),\n",
       " Counter({18: 1}),\n",
       " Counter({35: 1, 10749: 1}),\n",
       " Counter({18: 1}),\n",
       " Counter({18: 1}),\n",
       " Counter({35: 1, 10749: 1}),\n",
       " Counter({28: 1, 12: 1, 18: 1, 36: 1, 37: 1}),\n",
       " Counter({28: 1, 35: 1, 80: 1}),\n",
       " Counter({18: 1, 53: 1}),\n",
       " Counter({878: 1, 53: 1}),\n",
       " Counter({27: 1, 53: 1, 878: 1}),\n",
       " Counter({27: 1}),\n",
       " Counter({80: 1, 18: 1, 9648: 1, 53: 1}),\n",
       " Counter({35: 1}),\n",
       " Counter({35: 1}),\n",
       " Counter({18: 1, 36: 1}),\n",
       " Counter({28: 1, 878: 1, 80: 1}),\n",
       " Counter({12: 1, 16: 1, 35: 1, 10751: 1}),\n",
       " Counter({18: 1}),\n",
       " Counter({28: 1, 37: 1, 18: 1}),\n",
       " Counter({35: 1, 27: 1, 10402: 1}),\n",
       " Counter({18: 1, 35: 1}),\n",
       " Counter({18: 1, 10402: 1}),\n",
       " Counter({27: 1, 28: 1, 53: 1, 80: 1}),\n",
       " Counter({35: 1, 18: 1}),\n",
       " Counter({18: 1}),\n",
       " Counter({10402: 1}),\n",
       " Counter({28: 1, 27: 1, 878: 1}),\n",
       " Counter({27: 1, 53: 1}),\n",
       " Counter({18: 1}),\n",
       " Counter({35: 1, 10749: 1}),\n",
       " Counter({18: 1, 35: 1}),\n",
       " Counter({18: 1, 10749: 1}),\n",
       " Counter({10749: 1, 18: 1}),\n",
       " Counter({35: 1}),\n",
       " Counter({10749: 1, 35: 1}),\n",
       " Counter({27: 1, 35: 1, 14: 1}),\n",
       " Counter({35: 1, 18: 1}),\n",
       " Counter({18: 1}),\n",
       " Counter({53: 1, 18: 1}),\n",
       " Counter({28: 1, 10749: 1, 10752: 1}),\n",
       " Counter({18: 1, 53: 1}),\n",
       " Counter({12: 1, 18: 1, 10749: 1, 28: 1}),\n",
       " Counter({35: 1, 10749: 1, 18: 1}),\n",
       " Counter({18: 1, 28: 1, 80: 1, 53: 1}),\n",
       " Counter({18: 1, 36: 1, 10752: 1}),\n",
       " Counter({53: 1, 10752: 1, 12: 1}),\n",
       " Counter({99: 1}),\n",
       " Counter({18: 1}),\n",
       " Counter({14: 1, 16: 1, 10749: 1, 10751: 1}),\n",
       " Counter({27: 1, 35: 1, 28: 1, 14: 1, 878: 1}),\n",
       " Counter({53: 1, 18: 1, 10749: 1}),\n",
       " Counter({53: 1, 18: 1}),\n",
       " Counter({35: 1, 10749: 1}),\n",
       " Counter({28: 1, 12: 1, 18: 1, 10752: 1}),\n",
       " Counter({18: 1}),\n",
       " Counter({10769: 1, 18: 1}),\n",
       " Counter({10751: 1, 35: 1}),\n",
       " Counter({35: 1}),\n",
       " Counter({14: 1, 18: 1, 9648: 1}),\n",
       " Counter({80: 1, 18: 1, 9648: 1, 53: 1}),\n",
       " Counter({18: 1, 10752: 1}),\n",
       " Counter({18: 1, 36: 1}),\n",
       " Counter({12: 1, 14: 1, 28: 1, 35: 1, 10751: 1}),\n",
       " Counter({28: 1, 35: 1}),\n",
       " Counter({28: 1, 12: 1, 18: 1, 36: 1}),\n",
       " Counter({10402: 1, 18: 1}),\n",
       " Counter({28: 1, 18: 1, 53: 1}),\n",
       " Counter({18: 1}),\n",
       " Counter({18: 1, 10749: 1}),\n",
       " Counter({35: 1, 18: 1, 10749: 1}),\n",
       " Counter({12: 1, 35: 1, 80: 1, 9648: 1, 10749: 1, 53: 1}),\n",
       " Counter({53: 1, 28: 1, 80: 1, 18: 1}),\n",
       " Counter({28: 1, 12: 1, 14: 1, 878: 1}),\n",
       " Counter({35: 1}),\n",
       " Counter({18: 1, 10751: 1, 14: 1, 12: 1}),\n",
       " Counter({12: 1, 28: 1, 35: 1}),\n",
       " Counter({10402: 1, 18: 1, 10749: 1}),\n",
       " Counter({12: 1, 35: 1}),\n",
       " Counter({18: 1, 10749: 1}),\n",
       " Counter({18: 1}),\n",
       " Counter({10749: 1, 16: 1, 12: 1, 35: 1, 10751: 1, 14: 1}),\n",
       " Counter({35: 1, 10749: 1}),\n",
       " Counter({35: 1, 10749: 1}),\n",
       " Counter({18: 1}),\n",
       " Counter({18: 1, 53: 1, 80: 1}),\n",
       " Counter({18: 1, 53: 1}),\n",
       " Counter({878: 1}),\n",
       " Counter({18: 1, 35: 1, 10402: 1}),\n",
       " Counter({12: 1, 16: 1, 35: 1, 10751: 1}),\n",
       " Counter({18: 1, 10749: 1}),\n",
       " Counter({28: 1, 80: 1, 18: 1, 10749: 1, 53: 1, 37: 1}),\n",
       " Counter({35: 1, 18: 1}),\n",
       " Counter({80: 1, 27: 1, 9648: 1, 53: 1}),\n",
       " Counter({878: 1, 53: 1}),\n",
       " Counter({10749: 1, 18: 1, 35: 1}),\n",
       " Counter({18: 1}),\n",
       " Counter({35: 1, 10749: 1}),\n",
       " Counter({14: 1, 18: 1}),\n",
       " Counter({28: 1, 35: 1, 878: 1}),\n",
       " Counter({28: 1, 53: 1, 14: 1}),\n",
       " Counter({35: 1, 10749: 1}),\n",
       " Counter({18: 1}),\n",
       " Counter({27: 1, 53: 1}),\n",
       " Counter({10751: 1}),\n",
       " Counter({28: 1, 35: 1, 18: 1}),\n",
       " Counter({12: 1, 14: 1}),\n",
       " Counter({18: 1, 10402: 1}),\n",
       " Counter({53: 1}),\n",
       " Counter({35: 1}),\n",
       " Counter({18: 1}),\n",
       " Counter({35: 1, 18: 1, 10402: 1, 10749: 1}),\n",
       " Counter({35: 1, 18: 1, 80: 1}),\n",
       " Counter({28: 1, 53: 1}),\n",
       " Counter({28: 1}),\n",
       " Counter({16: 1, 28: 1, 10751: 1}),\n",
       " Counter({28: 1, 12: 1, 80: 1}),\n",
       " Counter({18: 1}),\n",
       " Counter({35: 1, 18: 1, 10749: 1}),\n",
       " Counter({80: 1, 18: 1, 9648: 1, 10749: 1, 53: 1}),\n",
       " Counter({28: 1, 12: 1, 878: 1, 53: 1}),\n",
       " Counter({28: 1, 12: 1, 35: 1, 14: 1}),\n",
       " Counter({18: 1, 80: 1}),\n",
       " Counter({28: 1, 12: 1, 35: 1, 10751: 1}),\n",
       " Counter({10751: 1, 14: 1, 10749: 1}),\n",
       " Counter({80: 1, 18: 1, 37: 1}),\n",
       " Counter({35: 1, 80: 1, 18: 1}),\n",
       " Counter({35: 1, 27: 1}),\n",
       " Counter({18: 1}),\n",
       " Counter({878: 1, 12: 1, 28: 1}),\n",
       " Counter({35: 1, 18: 1, 10749: 1}),\n",
       " Counter({18: 1, 14: 1, 27: 1, 9648: 1, 10749: 1, 53: 1}),\n",
       " Counter({35: 1, 10749: 1}),\n",
       " Counter({53: 1, 80: 1, 18: 1, 9648: 1}),\n",
       " Counter({27: 1, 53: 1, 10749: 1}),\n",
       " Counter({10749: 1, 53: 1}),\n",
       " Counter({35: 1, 10749: 1}),\n",
       " Counter({35: 1, 80: 1}),\n",
       " Counter({18: 1, 10752: 1}),\n",
       " Counter({28: 1, 35: 1}),\n",
       " Counter({27: 1, 35: 1, 10402: 1}),\n",
       " Counter({27: 1, 53: 1}),\n",
       " Counter({35: 1, 10749: 1}),\n",
       " Counter({99: 1}),\n",
       " Counter({18: 1, 53: 1, 36: 1}),\n",
       " Counter({18: 1, 9648: 1, 53: 1}),\n",
       " Counter({18: 1}),\n",
       " Counter({35: 1, 18: 1}),\n",
       " Counter({28: 1, 12: 1, 53: 1}),\n",
       " Counter({18: 1}),\n",
       " Counter({35: 1, 10749: 1}),\n",
       " Counter({18: 1, 10749: 1}),\n",
       " Counter({12: 1, 18: 1, 10751: 1}),\n",
       " Counter({28: 1, 36: 1, 10752: 1}),\n",
       " Counter({18: 1, 10402: 1, 10749: 1}),\n",
       " Counter({18: 1, 53: 1}),\n",
       " Counter({10402: 1, 35: 1}),\n",
       " Counter({18: 1}),\n",
       " Counter({14: 1, 16: 1, 878: 1, 10751: 1}),\n",
       " Counter({53: 1, 27: 1}),\n",
       " Counter({28: 1, 80: 1, 18: 1}),\n",
       " Counter({18: 1}),\n",
       " Counter({27: 1, 14: 1, 35: 1}),\n",
       " Counter({18: 1, 28: 1, 35: 1, 53: 1, 80: 1}),\n",
       " Counter({12: 1, 14: 1, 18: 1, 10749: 1}),\n",
       " Counter({28: 1, 80: 1, 18: 1, 9648: 1, 53: 1}),\n",
       " Counter({18: 1}),\n",
       " Counter({35: 1, 10749: 1, 18: 1}),\n",
       " Counter({12: 1, 35: 1, 80: 1, 9648: 1, 10749: 1}),\n",
       " Counter({16: 1, 12: 1, 35: 1, 10751: 1}),\n",
       " Counter({18: 1, 53: 1}),\n",
       " Counter({35: 1, 18: 1, 10749: 1}),\n",
       " Counter({18: 1, 35: 1}),\n",
       " Counter({28: 1, 18: 1, 53: 1}),\n",
       " Counter({16: 1, 12: 1, 10751: 1, 35: 1}),\n",
       " Counter({12: 1, 35: 1, 10751: 1, 878: 1}),\n",
       " Counter({18: 1, 36: 1, 10749: 1}),\n",
       " Counter({18: 1}),\n",
       " Counter({18: 1, 53: 1}),\n",
       " Counter({28: 1, 53: 1, 80: 1}),\n",
       " Counter({28: 1, 53: 1}),\n",
       " Counter({10751: 1, 878: 1}),\n",
       " Counter({35: 1, 80: 1, 18: 1}),\n",
       " Counter({35: 1}),\n",
       " Counter({53: 1, 28: 1, 35: 1, 80: 1, 18: 1}),\n",
       " Counter({18: 1}),\n",
       " Counter({28: 1, 53: 1, 27: 1, 878: 1}),\n",
       " Counter({18: 1, 10402: 1, 10749: 1}),\n",
       " Counter({14: 1, 10751: 1}),\n",
       " Counter({10749: 1, 35: 1, 18: 1}),\n",
       " Counter({35: 1, 18: 1, 10749: 1}),\n",
       " Counter({28: 1, 53: 1}),\n",
       " Counter({35: 1, 99: 1}),\n",
       " Counter({10749: 1, 12: 1, 18: 1}),\n",
       " Counter({18: 1, 10749: 1}),\n",
       " Counter({16: 1, 10402: 1}),\n",
       " Counter({53: 1, 28: 1, 80: 1, 18: 1}),\n",
       " Counter({35: 1, 10749: 1, 18: 1}),\n",
       " Counter({35: 1}),\n",
       " Counter({36: 1, 18: 1, 53: 1, 80: 1, 9648: 1}),\n",
       " Counter({35: 1, 18: 1}),\n",
       " Counter({35: 1}),\n",
       " Counter({18: 1, 53: 1}),\n",
       " Counter({28: 1, 18: 1, 27: 1, 878: 1, 53: 1}),\n",
       " Counter({18: 1, 36: 1, 10749: 1}),\n",
       " Counter({28: 1, 80: 1, 53: 1}),\n",
       " Counter({12: 1, 18: 1, 10749: 1}),\n",
       " Counter({35: 1}),\n",
       " Counter({18: 1}),\n",
       " Counter({28: 1, 36: 1, 10752: 1}),\n",
       " Counter({10752: 1, 28: 1, 18: 1, 36: 1, 53: 1}),\n",
       " Counter({28: 1, 80: 1, 18: 1}),\n",
       " Counter({18: 1, 10749: 1}),\n",
       " Counter({99: 1}),\n",
       " Counter({18: 1, 53: 1}),\n",
       " Counter({99: 1}),\n",
       " Counter({18: 1}),\n",
       " Counter({28: 1, 12: 1, 14: 1}),\n",
       " Counter({18: 1, 53: 1}),\n",
       " Counter({35: 1, 10749: 1}),\n",
       " Counter({35: 1, 18: 1}),\n",
       " Counter({18: 1, 10402: 1}),\n",
       " Counter({12: 1, 35: 1, 10751: 1, 878: 1}),\n",
       " Counter({18: 1, 35: 1, 10749: 1}),\n",
       " Counter({35: 1, 80: 1}),\n",
       " Counter({18: 1, 10749: 1}),\n",
       " Counter({35: 1}),\n",
       " Counter({18: 1}),\n",
       " Counter({12: 1, 99: 1}),\n",
       " Counter({18: 1, 36: 1, 10752: 1}),\n",
       " Counter({28: 1, 53: 1, 18: 1}),\n",
       " Counter({16: 1, 10751: 1}),\n",
       " Counter({35: 1}),\n",
       " Counter({28: 1, 12: 1, 18: 1, 53: 1}),\n",
       " Counter({18: 1}),\n",
       " Counter({53: 1, 27: 1, 28: 1}),\n",
       " Counter({10752: 1, 35: 1, 18: 1, 36: 1}),\n",
       " Counter({18: 1, 10749: 1, 35: 1}),\n",
       " Counter({27: 1, 9648: 1, 53: 1}),\n",
       " Counter({53: 1, 28: 1, 12: 1, 35: 1, 80: 1}),\n",
       " Counter({53: 1, 9648: 1}),\n",
       " Counter({35: 1, 18: 1, 10749: 1}),\n",
       " Counter({35: 1}),\n",
       " Counter({16: 1, 10751: 1}),\n",
       " Counter({10751: 1, 16: 1, 12: 1}),\n",
       " Counter({53: 1}),\n",
       " Counter({35: 1, 80: 1, 9648: 1}),\n",
       " Counter({18: 1, 80: 1}),\n",
       " Counter({18: 1, 36: 1, 53: 1}),\n",
       " Counter({53: 1}),\n",
       " Counter({10749: 1, 35: 1, 18: 1}),\n",
       " Counter({18: 1}),\n",
       " Counter({28: 1, 35: 1, 80: 1, 53: 1}),\n",
       " Counter({18: 1}),\n",
       " Counter({28: 1, 12: 1, 878: 1, 53: 1}),\n",
       " Counter({18: 1, 53: 1, 80: 1}),\n",
       " Counter({35: 1}),\n",
       " Counter({9648: 1, 27: 1, 18: 1}),\n",
       " Counter({12: 1, 16: 1, 35: 1, 10751: 1}),\n",
       " Counter({35: 1, 18: 1, 10749: 1}),\n",
       " Counter({27: 1, 9648: 1, 53: 1}),\n",
       " Counter({35: 1, 10402: 1, 10749: 1}),\n",
       " Counter({18: 1, 10749: 1, 35: 1}),\n",
       " Counter({18: 1, 9648: 1, 27: 1}),\n",
       " Counter({16: 1, 10751: 1}),\n",
       " Counter({18: 1, 10749: 1}),\n",
       " Counter({28: 1, 18: 1, 36: 1}),\n",
       " Counter({14: 1, 16: 1, 35: 1}),\n",
       " Counter({18: 1}),\n",
       " Counter({18: 1, 35: 1, 10749: 1}),\n",
       " Counter({18: 1, 10402: 1, 10749: 1}),\n",
       " Counter({18: 1, 10749: 1}),\n",
       " Counter({28: 1, 80: 1, 18: 1}),\n",
       " Counter({28: 1, 35: 1}),\n",
       " Counter({35: 1, 10749: 1, 18: 1}),\n",
       " Counter({18: 1, 53: 1}),\n",
       " Counter({35: 1, 18: 1, 10749: 1}),\n",
       " Counter({28: 1, 12: 1, 878: 1, 53: 1}),\n",
       " Counter({18: 1, 53: 1, 80: 1}),\n",
       " Counter({27: 1, 53: 1}),\n",
       " Counter({18: 1}),\n",
       " Counter({35: 1}),\n",
       " Counter({35: 1, 10749: 1}),\n",
       " Counter({16: 1, 12: 1, 10751: 1}),\n",
       " Counter({27: 1}),\n",
       " Counter({80: 1, 18: 1, 53: 1}),\n",
       " Counter({53: 1, 12: 1, 18: 1}),\n",
       " Counter({18: 1}),\n",
       " Counter({18: 1, 10749: 1}),\n",
       " Counter({18: 1, 35: 1}),\n",
       " Counter({18: 1}),\n",
       " Counter({35: 1, 10751: 1}),\n",
       " Counter({18: 1}),\n",
       " Counter({35: 1, 18: 1}),\n",
       " Counter({35: 1, 10749: 1}),\n",
       " Counter({99: 1}),\n",
       " Counter({18: 1, 10749: 1}),\n",
       " Counter({16: 1, 35: 1, 10751: 1, 12: 1}),\n",
       " Counter({18: 1, 53: 1}),\n",
       " Counter({18: 1, 27: 1, 53: 1}),\n",
       " Counter({35: 1}),\n",
       " Counter({27: 1}),\n",
       " Counter({99: 1}),\n",
       " Counter({99: 1}),\n",
       " Counter({18: 1}),\n",
       " Counter({18: 1}),\n",
       " Counter({18: 1, 35: 1, 10749: 1}),\n",
       " Counter({18: 1, 10749: 1}),\n",
       " Counter({10749: 1, 18: 1, 36: 1}),\n",
       " Counter({18: 1}),\n",
       " Counter({28: 1, 12: 1, 16: 1, 878: 1}),\n",
       " Counter({35: 1, 10749: 1}),\n",
       " Counter({18: 1, 28: 1, 53: 1, 80: 1}),\n",
       " Counter({18: 1, 36: 1, 10749: 1}),\n",
       " Counter({27: 1}),\n",
       " Counter({18: 1, 28: 1, 53: 1}),\n",
       " Counter({18: 1, 53: 1}),\n",
       " Counter({18: 1, 53: 1, 9648: 1}),\n",
       " Counter({35: 1}),\n",
       " Counter({35: 1}),\n",
       " Counter({18: 1, 53: 1}),\n",
       " Counter({10751: 1, 14: 1, 12: 1}),\n",
       " Counter({28: 1, 14: 1, 53: 1}),\n",
       " Counter({28: 1, 18: 1, 53: 1}),\n",
       " Counter({16: 1, 12: 1, 10751: 1}),\n",
       " Counter({28: 1, 35: 1, 80: 1, 53: 1}),\n",
       " Counter({18: 1, 10769: 1}),\n",
       " Counter({36: 1, 18: 1}),\n",
       " Counter({35: 1, 18: 1, 10749: 1}),\n",
       " Counter({27: 1, 53: 1}),\n",
       " Counter({28: 1, 12: 1, 18: 1, 53: 1}),\n",
       " Counter({35: 1, 14: 1, 878: 1}),\n",
       " Counter({99: 1}),\n",
       " Counter({18: 1, 53: 1}),\n",
       " Counter({53: 1}),\n",
       " Counter({53: 1, 12: 1, 36: 1, 18: 1}),\n",
       " Counter({10402: 1, 18: 1, 10749: 1, 80: 1}),\n",
       " Counter({12: 1, 18: 1, 14: 1, 10749: 1}),\n",
       " Counter({28: 1, 12: 1, 16: 1, 35: 1, 18: 1, 10751: 1}),\n",
       " Counter({28: 1, 35: 1, 18: 1}),\n",
       " Counter({28: 1, 53: 1}),\n",
       " Counter({99: 1}),\n",
       " Counter({12: 1, 28: 1}),\n",
       " Counter({28: 1, 12: 1, 35: 1, 18: 1, 53: 1}),\n",
       " Counter({35: 1}),\n",
       " Counter({35: 1, 10749: 1, 18: 1}),\n",
       " Counter({28: 1, 80: 1, 18: 1, 53: 1}),\n",
       " Counter({18: 1}),\n",
       " Counter({18: 1}),\n",
       " Counter({27: 1, 878: 1, 53: 1}),\n",
       " Counter({18: 1}),\n",
       " Counter({18: 1, 12: 1}),\n",
       " Counter({28: 1, 18: 1}),\n",
       " Counter({80: 1, 18: 1, 53: 1}),\n",
       " Counter({36: 1, 53: 1, 10752: 1}),\n",
       " Counter({28: 1, 18: 1, 36: 1}),\n",
       " Counter({80: 1, 35: 1, 53: 1}),\n",
       " Counter({35: 1}),\n",
       " Counter({18: 1, 10751: 1, 10749: 1}),\n",
       " Counter({28: 1, 18: 1, 10749: 1}),\n",
       " Counter({27: 1}),\n",
       " Counter({27: 1, 53: 1}),\n",
       " Counter({10749: 1, 16: 1, 10751: 1, 35: 1, 12: 1}),\n",
       " Counter({18: 1}),\n",
       " Counter({35: 1}),\n",
       " Counter({18: 1, 35: 1}),\n",
       " Counter({53: 1, 80: 1, 9648: 1}),\n",
       " Counter({28: 1, 10751: 1, 14: 1}),\n",
       " Counter({36: 1, 28: 1, 12: 1}),\n",
       " Counter({10751: 1, 14: 1, 878: 1, 12: 1, 35: 1}),\n",
       " Counter({28: 1}),\n",
       " Counter({10751: 1, 16: 1, 12: 1}),\n",
       " Counter({80: 1, 28: 1, 878: 1}),\n",
       " Counter({28: 1, 878: 1, 53: 1, 37: 1}),\n",
       " Counter({53: 1, 28: 1, 80: 1}),\n",
       " Counter({35: 1}),\n",
       " Counter({80: 1, 18: 1, 10751: 1, 53: 1}),\n",
       " Counter({28: 1, 18: 1}),\n",
       " Counter({35: 1, 18: 1}),\n",
       " Counter({18: 1, 28: 1, 53: 1, 10749: 1}),\n",
       " Counter({18: 1}),\n",
       " Counter({14: 1, 12: 1, 28: 1, 10751: 1, 10749: 1}),\n",
       " Counter({18: 1, 53: 1}),\n",
       " Counter({12: 1, 14: 1, 16: 1, 878: 1, 10751: 1}),\n",
       " Counter({28: 1, 12: 1, 18: 1, 53: 1}),\n",
       " Counter({35: 1, 18: 1}),\n",
       " Counter({28: 1, 53: 1, 10749: 1}),\n",
       " Counter({18: 1}),\n",
       " Counter({28: 1, 12: 1, 53: 1, 10752: 1}),\n",
       " Counter({35: 1, 80: 1}),\n",
       " Counter({28: 1}),\n",
       " Counter({12: 1, 10751: 1}),\n",
       " Counter({10749: 1, 35: 1}),\n",
       " Counter({10749: 1, 35: 1}),\n",
       " Counter({80: 1, 18: 1, 9648: 1, 53: 1}),\n",
       " Counter({18: 1}),\n",
       " Counter({99: 1}),\n",
       " Counter({27: 1, 9648: 1, 53: 1}),\n",
       " Counter({35: 1, 18: 1, 10749: 1}),\n",
       " Counter({35: 1, 10751: 1, 14: 1, 878: 1}),\n",
       " Counter({35: 1}),\n",
       " Counter({12: 1, 14: 1, 10751: 1}),\n",
       " Counter({28: 1, 35: 1, 80: 1, 53: 1}),\n",
       " Counter({53: 1}),\n",
       " Counter({18: 1, 10752: 1, 36: 1}),\n",
       " Counter({35: 1}),\n",
       " Counter({10749: 1, 18: 1}),\n",
       " Counter({18: 1, 35: 1, 10749: 1}),\n",
       " Counter({53: 1, 878: 1}),\n",
       " Counter({53: 1, 12: 1, 28: 1}),\n",
       " Counter({10749: 1, 28: 1}),\n",
       " Counter({27: 1, 53: 1}),\n",
       " Counter({18: 1, 36: 1, 9648: 1, 53: 1}),\n",
       " Counter({18: 1}),\n",
       " Counter({878: 1, 28: 1, 12: 1}),\n",
       " Counter({10751: 1, 16: 1}),\n",
       " Counter({14: 1, 18: 1}),\n",
       " Counter({35: 1}),\n",
       " Counter({12: 1, 18: 1, 28: 1, 36: 1, 10752: 1}),\n",
       " Counter({18: 1, 10751: 1}),\n",
       " Counter({27: 1, 53: 1, 14: 1, 9648: 1}),\n",
       " Counter({35: 1, 18: 1, 10749: 1}),\n",
       " Counter({80: 1, 53: 1}),\n",
       " Counter({18: 1, 27: 1, 878: 1, 53: 1}),\n",
       " Counter({28: 1, 80: 1}),\n",
       " Counter({99: 1, 80: 1}),\n",
       " Counter({18: 1, 35: 1}),\n",
       " Counter({18: 1}),\n",
       " Counter({18: 1}),\n",
       " Counter({35: 1}),\n",
       " Counter({99: 1, 28: 1, 12: 1}),\n",
       " Counter({18: 1}),\n",
       " Counter({35: 1, 10402: 1, 10749: 1}),\n",
       " Counter({28: 1, 12: 1, 10749: 1, 878: 1}),\n",
       " Counter({28: 1, 35: 1, 80: 1}),\n",
       " Counter({18: 1, 27: 1, 878: 1}),\n",
       " Counter({28: 1, 12: 1, 18: 1, 27: 1, 878: 1}),\n",
       " Counter({27: 1, 9648: 1, 80: 1}),\n",
       " Counter({35: 1, 10751: 1}),\n",
       " Counter({35: 1, 18: 1}),\n",
       " ...]"
      ]
     },
     "execution_count": 13,
     "metadata": {},
     "output_type": "execute_result"
    }
   ],
   "source": [
    "genres"
   ]
  },
  {
   "cell_type": "code",
   "execution_count": 14,
   "metadata": {},
   "outputs": [
    {
     "name": "stdout",
     "output_type": "stream",
     "text": [
      "[[0 0 0 ... 0 0 0]\n",
      " [0 0 0 ... 0 0 0]\n",
      " [0 0 0 ... 0 0 0]\n",
      " ...\n",
      " [0 0 0 ... 0 0 0]\n",
      " [0 0 0 ... 0 0 0]\n",
      " [0 0 0 ... 0 0 0]]\n"
     ]
    }
   ],
   "source": [
    "genres_vectorizer = DictVectorizer(dtype=int)\n",
    "\n",
    "# Fit the vectorizer on the data\n",
    "genres_vectorizer.fit(genres)\n",
    "\n",
    "# Convert the data to a BoW representation\n",
    "bow = genres_vectorizer.transform(genres).toarray()\n",
    "\n",
    "# Print the resulting BoW representation\n",
    "print(bow)"
   ]
  },
  {
   "cell_type": "code",
   "execution_count": 15,
   "metadata": {},
   "outputs": [
    {
     "data": {
      "text/plain": [
       "(3000, 20)"
      ]
     },
     "execution_count": 15,
     "metadata": {},
     "output_type": "execute_result"
    }
   ],
   "source": [
    "bow.shape"
   ]
  },
  {
   "cell_type": "code",
   "execution_count": 16,
   "metadata": {},
   "outputs": [
    {
     "data": {
      "text/plain": [
       "array([0, 0, 0, 1, 0, 0, 1, 0, 0, 0, 0, 0, 0, 0, 0, 1, 1, 0, 0, 0])"
      ]
     },
     "execution_count": 16,
     "metadata": {},
     "output_type": "execute_result"
    }
   ],
   "source": [
    "bow[1]"
   ]
  },
  {
   "cell_type": "code",
   "execution_count": 17,
   "metadata": {},
   "outputs": [],
   "source": [
    "original_language = df['original_language'].values"
   ]
  },
  {
   "cell_type": "code",
   "execution_count": 18,
   "metadata": {},
   "outputs": [],
   "source": [
    "original_language = original_language.reshape(-1, 1)"
   ]
  },
  {
   "cell_type": "code",
   "execution_count": 19,
   "metadata": {},
   "outputs": [
    {
     "data": {
      "text/plain": [
       "(3000, 1)"
      ]
     },
     "execution_count": 19,
     "metadata": {},
     "output_type": "execute_result"
    }
   ],
   "source": [
    "original_language.shape"
   ]
  },
  {
   "cell_type": "code",
   "execution_count": 20,
   "metadata": {},
   "outputs": [],
   "source": [
    "from sklearn.preprocessing import OneHotEncoder"
   ]
  },
  {
   "cell_type": "code",
   "execution_count": 21,
   "metadata": {},
   "outputs": [],
   "source": [
    "ohe = OneHotEncoder(min_frequency=.005, sparse_output=False).fit(original_language)"
   ]
  },
  {
   "cell_type": "code",
   "execution_count": 22,
   "metadata": {},
   "outputs": [
    {
     "data": {
      "text/plain": [
       "(3000, 13)"
      ]
     },
     "execution_count": 22,
     "metadata": {},
     "output_type": "execute_result"
    }
   ],
   "source": [
    "ohe.transform(original_language).shape"
   ]
  },
  {
   "cell_type": "code",
   "execution_count": 23,
   "metadata": {},
   "outputs": [
    {
     "data": {
      "text/plain": [
       "array(['x0_cn', 'x0_de', 'x0_en', 'x0_es', 'x0_fr', 'x0_hi', 'x0_it',\n",
       "       'x0_ja', 'x0_ko', 'x0_ru', 'x0_ta', 'x0_zh',\n",
       "       'x0_infrequent_sklearn'], dtype=object)"
      ]
     },
     "execution_count": 23,
     "metadata": {},
     "output_type": "execute_result"
    }
   ],
   "source": [
    "ohe.get_feature_names_out()"
   ]
  },
  {
   "cell_type": "code",
   "execution_count": 24,
   "metadata": {},
   "outputs": [],
   "source": [
    "# fill na with empty string\n",
    "df['overview'] = df['overview'].fillna('')"
   ]
  },
  {
   "cell_type": "code",
   "execution_count": 25,
   "metadata": {},
   "outputs": [],
   "source": [
    "maximum = 0\n",
    "for o in df['overview']:\n",
    "    try:\n",
    "        maximum = max(maximum, len(o.split()))\n",
    "    except:\n",
    "        print(o)\n",
    "        0/0\n",
    "    "
   ]
  },
  {
   "cell_type": "code",
   "execution_count": 26,
   "metadata": {},
   "outputs": [
    {
     "data": {
      "text/plain": [
       "<Axes: >"
      ]
     },
     "execution_count": 26,
     "metadata": {},
     "output_type": "execute_result"
    },
    {
     "data": {
      "image/png": "[encoded data removed]",
      "text/plain": [
       "<Figure size 640x480 with 1 Axes>"
      ]
     },
     "metadata": {},
     "output_type": "display_data"
    }
   ],
   "source": [
    "# plot the distribution of the length of the overview \n",
    "df['overview'].apply(lambda x: len(x.split())).hist(bins=100)"
   ]
  },
  {
   "cell_type": "code",
   "execution_count": 27,
   "metadata": {},
   "outputs": [
    {
     "data": {
      "text/plain": [
       "<Axes: >"
      ]
     },
     "execution_count": 27,
     "metadata": {},
     "output_type": "execute_result"
    },
    {
     "data": {
      "image/png": "[encoded data removed]",
      "text/plain": [
       "<Figure size 640x480 with 1 Axes>"
      ]
     },
     "metadata": {},
     "output_type": "display_data"
    }
   ],
   "source": [
    "# plot the cumulative distribution of the length of the overview\n",
    "df['overview'].apply(lambda x: len(x.split())).hist(bins=100, cumulative=True)"
   ]
  },
  {
   "cell_type": "code",
   "execution_count": 28,
   "metadata": {},
   "outputs": [
    {
     "data": {
      "text/plain": [
       "177"
      ]
     },
     "execution_count": 28,
     "metadata": {},
     "output_type": "execute_result"
    }
   ],
   "source": [
    "maximum"
   ]
  },
  {
   "cell_type": "code",
   "execution_count": 29,
   "metadata": {},
   "outputs": [],
   "source": [
    "# import re\n",
    "# def is_english(text):\n",
    "#     # Remove all non-English characters and punctuation\n",
    "#     text = re.sub('[^a-zA-Z.,!?;:'\\\"]', '', text)\n",
    "#     # Check if the remaining text is empty or not\n",
    "#     return len(text) == 0\n",
    "\n",
    "from langdetect import detect\n",
    "def is_english(text):\n",
    "    # Detect the language of the text\n",
    "    lang = detect(text)\n",
    "    # Check if the detected language is English or not\n",
    "    return lang == 'en'"
   ]
  },
  {
   "cell_type": "code",
   "execution_count": 30,
   "metadata": {},
   "outputs": [],
   "source": [
    "def is_english_string(vs):\n",
    "    counter = 20\n",
    "    for s in vs:\n",
    "        if not is_english(s):\n",
    "        # for c in s:\n",
    "            # if not (c.isalpha() or c.isspace() ):\n",
    "            #     print(s, c)\n",
    "            counter -= 1\n",
    "            print(s)\n",
    "            if counter == 0:\n",
    "                0/0\n",
    "            "
   ]
  },
  {
   "cell_type": "code",
   "execution_count": 31,
   "metadata": {},
   "outputs": [
    {
     "name": "stdout",
     "output_type": "stream",
     "text": [
      "ROB ZOMBIE'S  S P O O K  H A U S 31\n",
      "Артем Колчин был одним из многих, но он хотел славы. И он выбрал свой путь: он стал боксером. Теперь Артем претендент на чемпионский титул, боец, известный по всему миру, Большая Белая Надежда. Но главный бой в его жизни пошел не так, как он ожидал. Теперь ему предстоит решать свои проблемы вне ринга. У него всего три дня, чтобы расквитаться с теми, кто его предал, защитить любимую женщину от наемных убийц и собрать огромную сумму денег. В реальном мире бьют без перчаток и без правил. Вместо ринга — злые улицы большого города. И нет рефери, который может остановить бой. Но боец остается бойцом. Он знает, что такое страх, но способен не бояться. Он продолжает биться, даже когда надежда умерла. Счет идет на часы. И Артем начинает бой. За любовь. За друзей. За собственную жизнь.\n",
      "Dans le quartier du Sentier, Eddie Vuibert, Dov et Yvan sont confrontés aux procédés pour le moins expéditifs de leur nouveau client, Eurodiscount, une chaîne européenne d'hypermarchés. Karine, lasse des turpitudes de son volage époux, Dov, le chasse du foyer. La bande de copains se disloque.Dov et Patrick partent tenter leur chance sous le soleil de Californie, tandis qu'Eddie et Yvan font les marchés. Entre temps, Serge, devenu livreur, noue une idylle avec Chochana Boutboul, une jeune fille de bonne famille à qui il fait croire qu'il est très fortuné.C'est alors qu'Eddie découvre que sa faillite dépasse le simple échec commercial et qu'il a été victime d'une scandaleuse escroquerie. Dès lors, il décide de se venger et conçoit un plan qui va réunir et mobiliser tous ses amis.\n"
     ]
    },
    {
     "ename": "LangDetectException",
     "evalue": "No features in text.",
     "output_type": "error",
     "traceback": [
      "\u001b[0;31m---------------------------------------------------------------------------\u001b[0m",
      "\u001b[0;31mLangDetectException\u001b[0m                       Traceback (most recent call last)",
      "Cell \u001b[0;32mIn[31], line 1\u001b[0m\n\u001b[0;32m----> 1\u001b[0m is_english_string(df[\u001b[39m'\u001b[39;49m\u001b[39moverview\u001b[39;49m\u001b[39m'\u001b[39;49m])\n",
      "Cell \u001b[0;32mIn[30], line 4\u001b[0m, in \u001b[0;36mis_english_string\u001b[0;34m(vs)\u001b[0m\n\u001b[1;32m      2\u001b[0m counter \u001b[39m=\u001b[39m \u001b[39m20\u001b[39m\n\u001b[1;32m      3\u001b[0m \u001b[39mfor\u001b[39;00m s \u001b[39min\u001b[39;00m vs:\n\u001b[0;32m----> 4\u001b[0m     \u001b[39mif\u001b[39;00m \u001b[39mnot\u001b[39;00m is_english(s):\n\u001b[1;32m      5\u001b[0m     \u001b[39m# for c in s:\u001b[39;00m\n\u001b[1;32m      6\u001b[0m         \u001b[39m# if not (c.isalpha() or c.isspace() ):\u001b[39;00m\n\u001b[1;32m      7\u001b[0m         \u001b[39m#     print(s, c)\u001b[39;00m\n\u001b[1;32m      8\u001b[0m         counter \u001b[39m-\u001b[39m\u001b[39m=\u001b[39m \u001b[39m1\u001b[39m\n\u001b[1;32m      9\u001b[0m         \u001b[39mprint\u001b[39m(s)\n",
      "Cell \u001b[0;32mIn[29], line 11\u001b[0m, in \u001b[0;36mis_english\u001b[0;34m(text)\u001b[0m\n\u001b[1;32m      9\u001b[0m \u001b[39mdef\u001b[39;00m \u001b[39mis_english\u001b[39m(text):\n\u001b[1;32m     10\u001b[0m     \u001b[39m# Detect the language of the text\u001b[39;00m\n\u001b[0;32m---> 11\u001b[0m     lang \u001b[39m=\u001b[39m detect(text)\n\u001b[1;32m     12\u001b[0m     \u001b[39m# Check if the detected language is English or not\u001b[39;00m\n\u001b[1;32m     13\u001b[0m     \u001b[39mreturn\u001b[39;00m lang \u001b[39m==\u001b[39m \u001b[39m'\u001b[39m\u001b[39men\u001b[39m\u001b[39m'\u001b[39m\n",
      "File \u001b[0;32m~/.python/current/lib/python3.10/site-packages/langdetect/detector_factory.py:130\u001b[0m, in \u001b[0;36mdetect\u001b[0;34m(text)\u001b[0m\n\u001b[1;32m    128\u001b[0m detector \u001b[39m=\u001b[39m _factory\u001b[39m.\u001b[39mcreate()\n\u001b[1;32m    129\u001b[0m detector\u001b[39m.\u001b[39mappend(text)\n\u001b[0;32m--> 130\u001b[0m \u001b[39mreturn\u001b[39;00m detector\u001b[39m.\u001b[39;49mdetect()\n",
      "File \u001b[0;32m~/.python/current/lib/python3.10/site-packages/langdetect/detector.py:136\u001b[0m, in \u001b[0;36mDetector.detect\u001b[0;34m(self)\u001b[0m\n\u001b[1;32m    132\u001b[0m \u001b[39mdef\u001b[39;00m \u001b[39mdetect\u001b[39m(\u001b[39mself\u001b[39m):\n\u001b[1;32m    133\u001b[0m \u001b[39m    \u001b[39m\u001b[39m'''Detect language of the target text and return the language name\u001b[39;00m\n\u001b[1;32m    134\u001b[0m \u001b[39m    which has the highest probability.\u001b[39;00m\n\u001b[1;32m    135\u001b[0m \u001b[39m    '''\u001b[39;00m\n\u001b[0;32m--> 136\u001b[0m     probabilities \u001b[39m=\u001b[39m \u001b[39mself\u001b[39;49m\u001b[39m.\u001b[39;49mget_probabilities()\n\u001b[1;32m    137\u001b[0m     \u001b[39mif\u001b[39;00m probabilities:\n\u001b[1;32m    138\u001b[0m         \u001b[39mreturn\u001b[39;00m probabilities[\u001b[39m0\u001b[39m]\u001b[39m.\u001b[39mlang\n",
      "File \u001b[0;32m~/.python/current/lib/python3.10/site-packages/langdetect/detector.py:143\u001b[0m, in \u001b[0;36mDetector.get_probabilities\u001b[0;34m(self)\u001b[0m\n\u001b[1;32m    141\u001b[0m \u001b[39mdef\u001b[39;00m \u001b[39mget_probabilities\u001b[39m(\u001b[39mself\u001b[39m):\n\u001b[1;32m    142\u001b[0m     \u001b[39mif\u001b[39;00m \u001b[39mself\u001b[39m\u001b[39m.\u001b[39mlangprob \u001b[39mis\u001b[39;00m \u001b[39mNone\u001b[39;00m:\n\u001b[0;32m--> 143\u001b[0m         \u001b[39mself\u001b[39;49m\u001b[39m.\u001b[39;49m_detect_block()\n\u001b[1;32m    144\u001b[0m     \u001b[39mreturn\u001b[39;00m \u001b[39mself\u001b[39m\u001b[39m.\u001b[39m_sort_probability(\u001b[39mself\u001b[39m\u001b[39m.\u001b[39mlangprob)\n",
      "File \u001b[0;32m~/.python/current/lib/python3.10/site-packages/langdetect/detector.py:150\u001b[0m, in \u001b[0;36mDetector._detect_block\u001b[0;34m(self)\u001b[0m\n\u001b[1;32m    148\u001b[0m ngrams \u001b[39m=\u001b[39m \u001b[39mself\u001b[39m\u001b[39m.\u001b[39m_extract_ngrams()\n\u001b[1;32m    149\u001b[0m \u001b[39mif\u001b[39;00m \u001b[39mnot\u001b[39;00m ngrams:\n\u001b[0;32m--> 150\u001b[0m     \u001b[39mraise\u001b[39;00m LangDetectException(ErrorCode\u001b[39m.\u001b[39mCantDetectError, \u001b[39m'\u001b[39m\u001b[39mNo features in text.\u001b[39m\u001b[39m'\u001b[39m)\n\u001b[1;32m    152\u001b[0m \u001b[39mself\u001b[39m\u001b[39m.\u001b[39mlangprob \u001b[39m=\u001b[39m [\u001b[39m0.0\u001b[39m] \u001b[39m*\u001b[39m \u001b[39mlen\u001b[39m(\u001b[39mself\u001b[39m\u001b[39m.\u001b[39mlanglist)\n\u001b[1;32m    154\u001b[0m \u001b[39mself\u001b[39m\u001b[39m.\u001b[39mrandom\u001b[39m.\u001b[39mseed(\u001b[39mself\u001b[39m\u001b[39m.\u001b[39mseed)\n",
      "\u001b[0;31mLangDetectException\u001b[0m: No features in text."
     ]
    }
   ],
   "source": [
    "is_english_string(df['overview'])"
   ]
  },
  {
   "cell_type": "code",
   "execution_count": 32,
   "metadata": {},
   "outputs": [],
   "source": [
    "country_codes = ['CN', 'US', 'KR', 'IN', 'GB', 'FR', 'DE', 'ES', 'RU', 'AU', 'CA', 'MX', 'BR']"
   ]
  },
  {
   "cell_type": "code",
   "execution_count": 33,
   "metadata": {},
   "outputs": [],
   "source": [
    "country_codes_all = country_codes.copy()"
   ]
  },
  {
   "cell_type": "code",
   "execution_count": 34,
   "metadata": {},
   "outputs": [],
   "source": [
    "country_codes = ['CN', 'IN', 'US']\n",
    "# , 'ID', 'BR', 'PK', 'NG', 'BD', 'RU', 'JP', 'MX', 'PH', 'VN', 'ET', 'EG', 'DE', 'TR', 'FR', 'TH', 'GB', 'IT', 'KR', 'ZA', 'CO', 'AR', 'UA', 'PL', 'CA', 'MA', 'UZ', 'SA', 'PE', 'MY', 'MZ'\n"
   ]
  },
  {
   "cell_type": "code",
   "execution_count": 35,
   "metadata": {},
   "outputs": [],
   "source": [
    "import holidays\n",
    "def check_if_is_holiday(dt, country_code):\n",
    "    # if country_code == 'IN' and dt.year <= 2001:\n",
    "    #     return False\n",
    "    return dt.date() in holidays.CountryHoliday(country_code)"
   ]
  },
  {
   "cell_type": "code",
   "execution_count": 36,
   "metadata": {},
   "outputs": [],
   "source": [
    "def check_if_is_holiday_in_large_countries(dt):\n",
    "    return any(check_if_is_holiday(dt, country_code) for country_code in country_codes)"
   ]
  },
  {
   "cell_type": "code",
   "execution_count": 37,
   "metadata": {},
   "outputs": [
    {
     "data": {
      "text/plain": [
       ")"
      ]
     },
     "execution_count": 37,
     "metadata": {},
     "output_type": "execute_result"
    }
   ],
   "source": [
    "holidays.HolidayBase()"
   ]
  },
  {
   "cell_type": "code",
   "execution_count": 38,
   "metadata": {},
   "outputs": [],
   "source": [
    "from datetime import timedelta"
   ]
  },
  {
   "cell_type": "code",
   "execution_count": 39,
   "metadata": {},
   "outputs": [],
   "source": [
    "# change date into day, month, year, weekday\n",
    "df['release_date'] = pd.to_datetime(df['release_date'], format='%m/%d/%y')\n",
    "df[\"release_date\"] = df[\"release_date\"].apply(lambda x: x - timedelta(days=365*100) if x.year > 2019 else x)\n"
   ]
  },
  {
   "cell_type": "code",
   "execution_count": 40,
   "metadata": {},
   "outputs": [],
   "source": [
    "\n",
    "df['release_day'] = df['release_date'].dt.day\n",
    "df['release_month'] = df['release_date'].dt.month\n",
    "df['release_year'] = df['release_date'].dt.year\n",
    "df['release_weekday'] = df['release_date'].dt.weekday\n",
    "\n"
   ]
  },
  {
   "cell_type": "code",
   "execution_count": 41,
   "metadata": {},
   "outputs": [
    {
     "data": {
      "text/plain": [
       "1763   1921-02-15\n",
       "2992   1924-04-12\n",
       "1917   1925-09-20\n",
       "1361   1926-01-18\n",
       "2680   1926-06-08\n",
       "          ...    \n",
       "2838   2017-06-23\n",
       "1695   2017-06-28\n",
       "1354   2017-06-29\n",
       "1715   2017-07-11\n",
       "2623   2017-07-20\n",
       "Name: release_date, Length: 3000, dtype: datetime64[ns]"
      ]
     },
     "execution_count": 41,
     "metadata": {},
     "output_type": "execute_result"
    }
   ],
   "source": [
    "df['release_date'].sort_values()"
   ]
  },
  {
   "cell_type": "code",
   "execution_count": 42,
   "metadata": {},
   "outputs": [
    {
     "data": {
      "text/plain": [
       "True"
      ]
     },
     "execution_count": 42,
     "metadata": {},
     "output_type": "execute_result"
    }
   ],
   "source": [
    "check_if_is_holiday_in_large_countries(df['release_date'][0])"
   ]
  },
  {
   "cell_type": "code",
   "execution_count": 43,
   "metadata": {},
   "outputs": [],
   "source": [
    "# import partial\n",
    "from functools import partial\n",
    "check_if_is_holiday_in_us = partial(check_if_is_holiday, country_code='US')"
   ]
  },
  {
   "cell_type": "code",
   "execution_count": 44,
   "metadata": {},
   "outputs": [],
   "source": [
    "df['release_day_is_holiday-us'] = df['release_date'].apply(check_if_is_holiday_in_us)"
   ]
  },
  {
   "cell_type": "code",
   "execution_count": 48,
   "metadata": {},
   "outputs": [
    {
     "name": "stderr",
     "output_type": "stream",
     "text": [
      "/home/codespace/.python/current/lib/python3.10/site-packages/holidays/countries/india.py:166: Warning: Diwali and Holi holidays available from 2001 to 2030 only\n",
      "  warnings.warn(warning_msg, Warning)\n"
     ]
    },
    {
     "name": "stdout",
     "output_type": "stream",
     "text": [
      "['US', 'JP', 'KR', 'GB', 'FR', 'DE', 'ES', 'RU', 'AU', 'CA', 'MX', 'BR', 'IN']\n"
     ]
    },
    {
     "name": "stderr",
     "output_type": "stream",
     "text": [
      "/home/codespace/.python/current/lib/python3.10/site-packages/holidays/countries/india.py:166: Warning: Diwali and Holi holidays available from 2001 to 2030 only\n",
      "  warnings.warn(warning_msg, Warning)\n"
     ]
    },
    {
     "name": "stdout",
     "output_type": "stream",
     "text": [
      "['CN', 'JP', 'KR', 'GB', 'FR', 'DE', 'ES', 'RU', 'AU', 'CA', 'MX', 'BR', 'IN']\n"
     ]
    },
    {
     "name": "stderr",
     "output_type": "stream",
     "text": [
      "/home/codespace/.python/current/lib/python3.10/site-packages/holidays/countries/india.py:166: Warning: Diwali and Holi holidays available from 2001 to 2030 only\n",
      "  warnings.warn(warning_msg, Warning)\n"
     ]
    },
    {
     "name": "stdout",
     "output_type": "stream",
     "text": [
      "OK ['CN', 'US', 'KR', 'GB', 'FR', 'DE', 'ES', 'RU', 'AU', 'CA', 'MX', 'BR', 'IN'] JP\n"
     ]
    }
   ],
   "source": [
    "for i in range(len(country_codes)):\n",
    "    country_codes = country_codes_all.copy()\n",
    "    del country_codes[i]\n",
    "    try:\n",
    "        df['release_day_is_holiday'] = df['release_date'].apply(check_if_is_holiday_in_large_countries)\n",
    "        print(\"OK\", country_codes, country_codes_all[i])\n",
    "        break\n",
    "    except:\n",
    "        print(country_codes)\n",
    "        \n"
   ]
  },
  {
   "cell_type": "code",
   "execution_count": 56,
   "metadata": {},
   "outputs": [
    {
     "data": {
      "text/plain": [
       "-0.026749212176955497"
      ]
     },
     "execution_count": 56,
     "metadata": {},
     "output_type": "execute_result"
    }
   ],
   "source": [
    "# plot the correlation between is holiday and revenue\n",
    "df['release_day_is_holiday-us'].astype(int).corr(df['revenue'])"
   ]
  },
  {
   "cell_type": "code",
   "execution_count": 50,
   "metadata": {},
   "outputs": [],
   "source": [
    "from datetime import date"
   ]
  },
  {
   "cell_type": "code",
   "execution_count": 51,
   "metadata": {},
   "outputs": [],
   "source": [
    "dt1 = date(2023, 1, 1)"
   ]
  },
  {
   "cell_type": "code",
   "execution_count": 52,
   "metadata": {},
   "outputs": [
    {
     "ename": "TypeError",
     "evalue": "check_if_is_holiday() missing 1 required positional argument: 'country_code'",
     "output_type": "error",
     "traceback": [
      "\u001b[0;31m---------------------------------------------------------------------------\u001b[0m",
      "\u001b[0;31mTypeError\u001b[0m                                 Traceback (most recent call last)",
      "Cell \u001b[0;32mIn[52], line 1\u001b[0m\n\u001b[0;32m----> 1\u001b[0m check_if_is_holiday(dt1)\n",
      "\u001b[0;31mTypeError\u001b[0m: check_if_is_holiday() missing 1 required positional argument: 'country_code'"
     ]
    }
   ],
   "source": [
    "check_if_is_holiday(dt1)"
   ]
  },
  {
   "cell_type": "code",
   "execution_count": null,
   "metadata": {},
   "outputs": [
    {
     "name": "stdout",
     "output_type": "stream",
     "text": [
      "New Year's Day\n"
     ]
    }
   ],
   "source": [
    "import holidays\n",
    "\n",
    "# Example date and country code\n",
    "dt = date(2023, 1, 1)\n",
    "country_code = 'US'\n",
    "\n",
    "# Get the list of holidays for the country and date\n",
    "holiday_list = holidays.CountryHoliday(country_code)[dt]\n",
    "\n",
    "# Print the list of holidays\n",
    "print(holiday_list)"
   ]
  },
  {
   "cell_type": "code",
   "execution_count": null,
   "metadata": {},
   "outputs": [
    {
     "data": {
      "text/plain": [
       "0      2015-02-20\n",
       "1      2004-08-06\n",
       "2      2014-10-10\n",
       "3      2012-03-09\n",
       "4      2009-02-05\n",
       "          ...    \n",
       "2995   1994-04-22\n",
       "2996   2013-03-28\n",
       "2997   1996-10-11\n",
       "2998   2004-01-16\n",
       "2999   2011-09-22\n",
       "Name: release_date, Length: 3000, dtype: datetime64[ns]"
      ]
     },
     "execution_count": 58,
     "metadata": {},
     "output_type": "execute_result"
    }
   ],
   "source": [
    "df['release_date']"
   ]
  },
  {
   "cell_type": "code",
   "execution_count": null,
   "metadata": {},
   "outputs": [
    {
     "data": {
      "text/plain": [
       "id                                                                     1833\n",
       "budget                                                              1250000\n",
       "genres                    [{'id': 18, 'name': 'Drama'}, {'id': 10749, 'n...\n",
       "homepage                                                                NaN\n",
       "imdb_id                                                           tt0070849\n",
       "original_language                                                        fr\n",
       "original_title                                        Ultimo tango a Parigi\n",
       "overview                  A young Parisian woman begins a sordid affair ...\n",
       "popularity                                                         12.74564\n",
       "poster_path                                /6ppSHkDe7CoxyvFEc6JILuKnAu0.jpg\n",
       "production_companies      [{'name': 'United Artists', 'id': 60}, {'name'...\n",
       "production_countries      [{'iso_3166_1': 'FR', 'name': 'France'}, {'iso...\n",
       "release_date                                            2072-10-14 00:00:00\n",
       "runtime                                                               129.0\n",
       "spoken_languages          [{'iso_639_1': 'en', 'name': 'English'}, {'iso...\n",
       "status                                                             Released\n",
       "tagline                                 Bernardo Bertolucci's Landmark Film\n",
       "title                                                   Last Tango in Paris\n",
       "Keywords                  [{'id': 90, 'name': 'paris'}, {'id': 572, 'nam...\n",
       "cast                      [{'cast_id': 3, 'character': 'Paul', 'credit_i...\n",
       "crew                      [{'credit_id': '52fe4307c3a36847f8035291', 'de...\n",
       "revenue                                                            36144000\n",
       "release_day                                                              14\n",
       "release_month                                                            10\n",
       "release_year                                                           2072\n",
       "release_weekday                                                           4\n",
       "release_day_is_holiday                                                   []\n",
       "Name: 1832, dtype: object"
      ]
     },
     "execution_count": 89,
     "metadata": {},
     "output_type": "execute_result"
    }
   ],
   "source": [
    "df.iloc[1832   ]"
   ]
  },
  {
   "cell_type": "code",
   "execution_count": 64,
   "metadata": {},
   "outputs": [
    {
     "data": {
      "text/plain": [
       "array(['Released', 'Rumored'], dtype=object)"
      ]
     },
     "execution_count": 64,
     "metadata": {},
     "output_type": "execute_result"
    }
   ],
   "source": [
    "df['status'].unique()"
   ]
  },
  {
   "cell_type": "code",
   "execution_count": 66,
   "metadata": {},
   "outputs": [],
   "source": [
    "status_encoder = OneHotEncoder(min_frequency=.005, sparse_output=False).fit(df['status'].values.reshape(-1, 1))"
   ]
  },
  {
   "cell_type": "code",
   "execution_count": 68,
   "metadata": {},
   "outputs": [
    {
     "data": {
      "text/plain": [
       "array([2996.,    4.])"
      ]
     },
     "execution_count": 68,
     "metadata": {},
     "output_type": "execute_result"
    }
   ],
   "source": [
    "status_encoder.transform(df['status'].values.reshape(-1, 1)).sum(axis=0)"
   ]
  },
  {
   "cell_type": "code",
   "execution_count": null,
   "metadata": {},
   "outputs": [],
   "source": [
    "distinct_values = get_distinct_value(df['genres'], 'name')\n",
    "distinct_values, len(distinct_values)"
   ]
  },
  {
   "cell_type": "code",
   "execution_count": null,
   "metadata": {},
   "outputs": [
    {
     "data": {
      "text/html": [
       "<div>\n",
       "<style scoped>\n",
       "    .dataframe tbody tr th:only-of-type {\n",
       "        vertical-align: middle;\n",
       "    }\n",
       "\n",
       "    .dataframe tbody tr th {\n",
       "        vertical-align: top;\n",
       "    }\n",
       "\n",
       "    .dataframe thead th {\n",
       "        text-align: right;\n",
       "    }\n",
       "</style>\n",
       "<table border=\"1\" class=\"dataframe\">\n",
       "  <thead>\n",
       "    <tr style=\"text-align: right;\">\n",
       "      <th></th>\n",
       "      <th>id</th>\n",
       "      <th>budget</th>\n",
       "      <th>genres</th>\n",
       "      <th>homepage</th>\n",
       "      <th>imdb_id</th>\n",
       "      <th>original_language</th>\n",
       "      <th>original_title</th>\n",
       "      <th>overview</th>\n",
       "      <th>popularity</th>\n",
       "      <th>poster_path</th>\n",
       "      <th>...</th>\n",
       "      <th>title</th>\n",
       "      <th>Keywords</th>\n",
       "      <th>cast</th>\n",
       "      <th>crew</th>\n",
       "      <th>revenue</th>\n",
       "      <th>release_day</th>\n",
       "      <th>release_month</th>\n",
       "      <th>release_year</th>\n",
       "      <th>release_weekday</th>\n",
       "      <th>release_day_is_holiday</th>\n",
       "    </tr>\n",
       "  </thead>\n",
       "  <tbody>\n",
       "    <tr>\n",
       "      <th>0</th>\n",
       "      <td>1</td>\n",
       "      <td>14000000</td>\n",
       "      <td>[{'id': 35, 'name': 'Comedy'}]</td>\n",
       "      <td>NaN</td>\n",
       "      <td>tt2637294</td>\n",
       "      <td>en</td>\n",
       "      <td>Hot Tub Time Machine 2</td>\n",
       "      <td>When Lou, who has become the \"father of the In...</td>\n",
       "      <td>6.575393</td>\n",
       "      <td>/tQtWuwvMf0hCc2QR2tkolwl7c3c.jpg</td>\n",
       "      <td>...</td>\n",
       "      <td>Hot Tub Time Machine 2</td>\n",
       "      <td>[{'id': 4379, 'name': 'time travel'}, {'id': 9...</td>\n",
       "      <td>[{'cast_id': 4, 'character': 'Lou', 'credit_id...</td>\n",
       "      <td>[{'credit_id': '59ac067c92514107af02c8c8', 'de...</td>\n",
       "      <td>12314651</td>\n",
       "      <td>20</td>\n",
       "      <td>2</td>\n",
       "      <td>2015</td>\n",
       "      <td>4</td>\n",
       "      <td>[]</td>\n",
       "    </tr>\n",
       "    <tr>\n",
       "      <th>1</th>\n",
       "      <td>2</td>\n",
       "      <td>40000000</td>\n",
       "      <td>[{'id': 35, 'name': 'Comedy'}, {'id': 18, 'nam...</td>\n",
       "      <td>NaN</td>\n",
       "      <td>tt0368933</td>\n",
       "      <td>en</td>\n",
       "      <td>The Princess Diaries 2: Royal Engagement</td>\n",
       "      <td>Mia Thermopolis is now a college graduate and ...</td>\n",
       "      <td>8.248895</td>\n",
       "      <td>/w9Z7A0GHEhIp7etpj0vyKOeU1Wx.jpg</td>\n",
       "      <td>...</td>\n",
       "      <td>The Princess Diaries 2: Royal Engagement</td>\n",
       "      <td>[{'id': 2505, 'name': 'coronation'}, {'id': 42...</td>\n",
       "      <td>[{'cast_id': 1, 'character': 'Mia Thermopolis'...</td>\n",
       "      <td>[{'credit_id': '52fe43fe9251416c7502563d', 'de...</td>\n",
       "      <td>95149435</td>\n",
       "      <td>6</td>\n",
       "      <td>8</td>\n",
       "      <td>2004</td>\n",
       "      <td>4</td>\n",
       "      <td>[]</td>\n",
       "    </tr>\n",
       "    <tr>\n",
       "      <th>2</th>\n",
       "      <td>3</td>\n",
       "      <td>3300000</td>\n",
       "      <td>[{'id': 18, 'name': 'Drama'}]</td>\n",
       "      <td>http://sonyclassics.com/whiplash/</td>\n",
       "      <td>tt2582802</td>\n",
       "      <td>en</td>\n",
       "      <td>Whiplash</td>\n",
       "      <td>Under the direction of a ruthless instructor, ...</td>\n",
       "      <td>64.299990</td>\n",
       "      <td>/lIv1QinFqz4dlp5U4lQ6HaiskOZ.jpg</td>\n",
       "      <td>...</td>\n",
       "      <td>Whiplash</td>\n",
       "      <td>[{'id': 1416, 'name': 'jazz'}, {'id': 1523, 'n...</td>\n",
       "      <td>[{'cast_id': 5, 'character': 'Andrew Neimann',...</td>\n",
       "      <td>[{'credit_id': '54d5356ec3a3683ba0000039', 'de...</td>\n",
       "      <td>13092000</td>\n",
       "      <td>10</td>\n",
       "      <td>10</td>\n",
       "      <td>2014</td>\n",
       "      <td>4</td>\n",
       "      <td>[]</td>\n",
       "    </tr>\n",
       "    <tr>\n",
       "      <th>3</th>\n",
       "      <td>4</td>\n",
       "      <td>1200000</td>\n",
       "      <td>[{'id': 53, 'name': 'Thriller'}, {'id': 18, 'n...</td>\n",
       "      <td>http://kahaanithefilm.com/</td>\n",
       "      <td>tt1821480</td>\n",
       "      <td>hi</td>\n",
       "      <td>Kahaani</td>\n",
       "      <td>Vidya Bagchi (Vidya Balan) arrives in Kolkata ...</td>\n",
       "      <td>3.174936</td>\n",
       "      <td>/aTXRaPrWSinhcmCrcfJK17urp3F.jpg</td>\n",
       "      <td>...</td>\n",
       "      <td>Kahaani</td>\n",
       "      <td>[{'id': 10092, 'name': 'mystery'}, {'id': 1054...</td>\n",
       "      <td>[{'cast_id': 1, 'character': 'Vidya Bagchi', '...</td>\n",
       "      <td>[{'credit_id': '52fe48779251416c9108d6eb', 'de...</td>\n",
       "      <td>16000000</td>\n",
       "      <td>9</td>\n",
       "      <td>3</td>\n",
       "      <td>2012</td>\n",
       "      <td>4</td>\n",
       "      <td>[]</td>\n",
       "    </tr>\n",
       "    <tr>\n",
       "      <th>4</th>\n",
       "      <td>5</td>\n",
       "      <td>0</td>\n",
       "      <td>[{'id': 28, 'name': 'Action'}, {'id': 53, 'nam...</td>\n",
       "      <td>NaN</td>\n",
       "      <td>tt1380152</td>\n",
       "      <td>ko</td>\n",
       "      <td>마린보이</td>\n",
       "      <td>Marine Boy is the story of a former national s...</td>\n",
       "      <td>1.148070</td>\n",
       "      <td>/m22s7zvkVFDU9ir56PiiqIEWFdT.jpg</td>\n",
       "      <td>...</td>\n",
       "      <td>Marine Boy</td>\n",
       "      <td>NaN</td>\n",
       "      <td>[{'cast_id': 3, 'character': 'Chun-soo', 'cred...</td>\n",
       "      <td>[{'credit_id': '52fe464b9251416c75073b43', 'de...</td>\n",
       "      <td>3923970</td>\n",
       "      <td>5</td>\n",
       "      <td>2</td>\n",
       "      <td>2009</td>\n",
       "      <td>3</td>\n",
       "      <td>[]</td>\n",
       "    </tr>\n",
       "    <tr>\n",
       "      <th>...</th>\n",
       "      <td>...</td>\n",
       "      <td>...</td>\n",
       "      <td>...</td>\n",
       "      <td>...</td>\n",
       "      <td>...</td>\n",
       "      <td>...</td>\n",
       "      <td>...</td>\n",
       "      <td>...</td>\n",
       "      <td>...</td>\n",
       "      <td>...</td>\n",
       "      <td>...</td>\n",
       "      <td>...</td>\n",
       "      <td>...</td>\n",
       "      <td>...</td>\n",
       "      <td>...</td>\n",
       "      <td>...</td>\n",
       "      <td>...</td>\n",
       "      <td>...</td>\n",
       "      <td>...</td>\n",
       "      <td>...</td>\n",
       "      <td>...</td>\n",
       "    </tr>\n",
       "    <tr>\n",
       "      <th>2995</th>\n",
       "      <td>2996</td>\n",
       "      <td>0</td>\n",
       "      <td>[{'id': 35, 'name': 'Comedy'}, {'id': 10749, '...</td>\n",
       "      <td>NaN</td>\n",
       "      <td>tt0109403</td>\n",
       "      <td>en</td>\n",
       "      <td>Chasers</td>\n",
       "      <td>Military men Rock Reilly and Eddie Devane are ...</td>\n",
       "      <td>9.853270</td>\n",
       "      <td>/j8Q7pQ27hvH54wpxJzIuQgQCdro.jpg</td>\n",
       "      <td>...</td>\n",
       "      <td>Chasers</td>\n",
       "      <td>[{'id': 378, 'name': 'prison'}, {'id': 572, 'n...</td>\n",
       "      <td>[{'cast_id': 2, 'character': 'Rock Reilly', 'c...</td>\n",
       "      <td>[{'credit_id': '52fe4494c3a368484e02ac7d', 'de...</td>\n",
       "      <td>1596687</td>\n",
       "      <td>22</td>\n",
       "      <td>4</td>\n",
       "      <td>1994</td>\n",
       "      <td>4</td>\n",
       "      <td>[]</td>\n",
       "    </tr>\n",
       "    <tr>\n",
       "      <th>2996</th>\n",
       "      <td>2997</td>\n",
       "      <td>0</td>\n",
       "      <td>[{'id': 18, 'name': 'Drama'}, {'id': 10402, 'n...</td>\n",
       "      <td>NaN</td>\n",
       "      <td>tt2364975</td>\n",
       "      <td>sv</td>\n",
       "      <td>Vi är bäst!</td>\n",
       "      <td>Three girls in 1980s Stockholm decide to form ...</td>\n",
       "      <td>3.727996</td>\n",
       "      <td>/sS01LSy6KDrCZAhtkO18UdnWFT1.jpg</td>\n",
       "      <td>...</td>\n",
       "      <td>We Are the Best!</td>\n",
       "      <td>[{'id': 1192, 'name': 'sweden'}, {'id': 4470, ...</td>\n",
       "      <td>[{'cast_id': 5, 'character': 'Bobo', 'credit_i...</td>\n",
       "      <td>[{'credit_id': '5716b72ac3a3686678012c84', 'de...</td>\n",
       "      <td>180590</td>\n",
       "      <td>28</td>\n",
       "      <td>3</td>\n",
       "      <td>2013</td>\n",
       "      <td>3</td>\n",
       "      <td>[]</td>\n",
       "    </tr>\n",
       "    <tr>\n",
       "      <th>2997</th>\n",
       "      <td>2998</td>\n",
       "      <td>65000000</td>\n",
       "      <td>[{'id': 80, 'name': 'Crime'}, {'id': 28, 'name...</td>\n",
       "      <td>NaN</td>\n",
       "      <td>tt0116908</td>\n",
       "      <td>en</td>\n",
       "      <td>The Long Kiss Goodnight</td>\n",
       "      <td>Samantha Caine, suburban homemaker, is the ide...</td>\n",
       "      <td>14.482345</td>\n",
       "      <td>/4MENR8x6mYqnZvp2hGjSaPJz64J.jpg</td>\n",
       "      <td>...</td>\n",
       "      <td>The Long Kiss Goodnight</td>\n",
       "      <td>[{'id': 441, 'name': 'assassination'}, {'id': ...</td>\n",
       "      <td>[{'cast_id': 10, 'character': 'Samantha Caine ...</td>\n",
       "      <td>[{'credit_id': '52fe443a9251416c7502d579', 'de...</td>\n",
       "      <td>89456761</td>\n",
       "      <td>11</td>\n",
       "      <td>10</td>\n",
       "      <td>1996</td>\n",
       "      <td>4</td>\n",
       "      <td>[]</td>\n",
       "    </tr>\n",
       "    <tr>\n",
       "      <th>2998</th>\n",
       "      <td>2999</td>\n",
       "      <td>42000000</td>\n",
       "      <td>[{'id': 35, 'name': 'Comedy'}, {'id': 10749, '...</td>\n",
       "      <td>http://www.alongcamepolly.com/</td>\n",
       "      <td>tt0343135</td>\n",
       "      <td>en</td>\n",
       "      <td>Along Came Polly</td>\n",
       "      <td>Reuben Feffer is a guy who's spent his entire ...</td>\n",
       "      <td>15.725542</td>\n",
       "      <td>/nIY4kvJTTnxoBR0wycrXng5MOYs.jpg</td>\n",
       "      <td>...</td>\n",
       "      <td>Along Came Polly</td>\n",
       "      <td>[{'id': 966, 'name': 'beach'}, {'id': 2676, 'n...</td>\n",
       "      <td>[{'cast_id': 8, 'character': 'Reuben Feffer', ...</td>\n",
       "      <td>[{'credit_id': '556f817b9251410866000a63', 'de...</td>\n",
       "      <td>171963386</td>\n",
       "      <td>16</td>\n",
       "      <td>1</td>\n",
       "      <td>2004</td>\n",
       "      <td>4</td>\n",
       "      <td>[]</td>\n",
       "    </tr>\n",
       "    <tr>\n",
       "      <th>2999</th>\n",
       "      <td>3000</td>\n",
       "      <td>35000000</td>\n",
       "      <td>[{'id': 53, 'name': 'Thriller'}, {'id': 28, 'n...</td>\n",
       "      <td>http://www.abductionthefilm.com/</td>\n",
       "      <td>tt1600195</td>\n",
       "      <td>en</td>\n",
       "      <td>Abduction</td>\n",
       "      <td>A young man sets out to uncover the truth abou...</td>\n",
       "      <td>10.512109</td>\n",
       "      <td>/cUT6NQP5LAJpmUoStGtXmvNt4zA.jpg</td>\n",
       "      <td>...</td>\n",
       "      <td>Abduction</td>\n",
       "      <td>[{'id': 591, 'name': 'cia'}, {'id': 822, 'name...</td>\n",
       "      <td>[{'cast_id': 2, 'character': 'Nathan Harper', ...</td>\n",
       "      <td>[{'credit_id': '5391990d0e0a260fb5001629', 'de...</td>\n",
       "      <td>82087155</td>\n",
       "      <td>22</td>\n",
       "      <td>9</td>\n",
       "      <td>2011</td>\n",
       "      <td>3</td>\n",
       "      <td>[]</td>\n",
       "    </tr>\n",
       "  </tbody>\n",
       "</table>\n",
       "<p>3000 rows × 27 columns</p>\n",
       "</div>"
      ],
      "text/plain": [
       "        id    budget                                             genres   \n",
       "0        1  14000000                     [{'id': 35, 'name': 'Comedy'}]  \\\n",
       "1        2  40000000  [{'id': 35, 'name': 'Comedy'}, {'id': 18, 'nam...   \n",
       "2        3   3300000                      [{'id': 18, 'name': 'Drama'}]   \n",
       "3        4   1200000  [{'id': 53, 'name': 'Thriller'}, {'id': 18, 'n...   \n",
       "4        5         0  [{'id': 28, 'name': 'Action'}, {'id': 53, 'nam...   \n",
       "...    ...       ...                                                ...   \n",
       "2995  2996         0  [{'id': 35, 'name': 'Comedy'}, {'id': 10749, '...   \n",
       "2996  2997         0  [{'id': 18, 'name': 'Drama'}, {'id': 10402, 'n...   \n",
       "2997  2998  65000000  [{'id': 80, 'name': 'Crime'}, {'id': 28, 'name...   \n",
       "2998  2999  42000000  [{'id': 35, 'name': 'Comedy'}, {'id': 10749, '...   \n",
       "2999  3000  35000000  [{'id': 53, 'name': 'Thriller'}, {'id': 28, 'n...   \n",
       "\n",
       "                               homepage    imdb_id original_language   \n",
       "0                                   NaN  tt2637294                en  \\\n",
       "1                                   NaN  tt0368933                en   \n",
       "2     http://sonyclassics.com/whiplash/  tt2582802                en   \n",
       "3            http://kahaanithefilm.com/  tt1821480                hi   \n",
       "4                                   NaN  tt1380152                ko   \n",
       "...                                 ...        ...               ...   \n",
       "2995                                NaN  tt0109403                en   \n",
       "2996                                NaN  tt2364975                sv   \n",
       "2997                                NaN  tt0116908                en   \n",
       "2998     http://www.alongcamepolly.com/  tt0343135                en   \n",
       "2999   http://www.abductionthefilm.com/  tt1600195                en   \n",
       "\n",
       "                                original_title   \n",
       "0                       Hot Tub Time Machine 2  \\\n",
       "1     The Princess Diaries 2: Royal Engagement   \n",
       "2                                     Whiplash   \n",
       "3                                      Kahaani   \n",
       "4                                         마린보이   \n",
       "...                                        ...   \n",
       "2995                                   Chasers   \n",
       "2996                               Vi är bäst!   \n",
       "2997                   The Long Kiss Goodnight   \n",
       "2998                          Along Came Polly   \n",
       "2999                                 Abduction   \n",
       "\n",
       "                                               overview  popularity   \n",
       "0     When Lou, who has become the \"father of the In...    6.575393  \\\n",
       "1     Mia Thermopolis is now a college graduate and ...    8.248895   \n",
       "2     Under the direction of a ruthless instructor, ...   64.299990   \n",
       "3     Vidya Bagchi (Vidya Balan) arrives in Kolkata ...    3.174936   \n",
       "4     Marine Boy is the story of a former national s...    1.148070   \n",
       "...                                                 ...         ...   \n",
       "2995  Military men Rock Reilly and Eddie Devane are ...    9.853270   \n",
       "2996  Three girls in 1980s Stockholm decide to form ...    3.727996   \n",
       "2997  Samantha Caine, suburban homemaker, is the ide...   14.482345   \n",
       "2998  Reuben Feffer is a guy who's spent his entire ...   15.725542   \n",
       "2999  A young man sets out to uncover the truth abou...   10.512109   \n",
       "\n",
       "                           poster_path  ...   \n",
       "0     /tQtWuwvMf0hCc2QR2tkolwl7c3c.jpg  ...  \\\n",
       "1     /w9Z7A0GHEhIp7etpj0vyKOeU1Wx.jpg  ...   \n",
       "2     /lIv1QinFqz4dlp5U4lQ6HaiskOZ.jpg  ...   \n",
       "3     /aTXRaPrWSinhcmCrcfJK17urp3F.jpg  ...   \n",
       "4     /m22s7zvkVFDU9ir56PiiqIEWFdT.jpg  ...   \n",
       "...                                ...  ...   \n",
       "2995  /j8Q7pQ27hvH54wpxJzIuQgQCdro.jpg  ...   \n",
       "2996  /sS01LSy6KDrCZAhtkO18UdnWFT1.jpg  ...   \n",
       "2997  /4MENR8x6mYqnZvp2hGjSaPJz64J.jpg  ...   \n",
       "2998  /nIY4kvJTTnxoBR0wycrXng5MOYs.jpg  ...   \n",
       "2999  /cUT6NQP5LAJpmUoStGtXmvNt4zA.jpg  ...   \n",
       "\n",
       "                                         title   \n",
       "0                       Hot Tub Time Machine 2  \\\n",
       "1     The Princess Diaries 2: Royal Engagement   \n",
       "2                                     Whiplash   \n",
       "3                                      Kahaani   \n",
       "4                                   Marine Boy   \n",
       "...                                        ...   \n",
       "2995                                   Chasers   \n",
       "2996                          We Are the Best!   \n",
       "2997                   The Long Kiss Goodnight   \n",
       "2998                          Along Came Polly   \n",
       "2999                                 Abduction   \n",
       "\n",
       "                                               Keywords   \n",
       "0     [{'id': 4379, 'name': 'time travel'}, {'id': 9...  \\\n",
       "1     [{'id': 2505, 'name': 'coronation'}, {'id': 42...   \n",
       "2     [{'id': 1416, 'name': 'jazz'}, {'id': 1523, 'n...   \n",
       "3     [{'id': 10092, 'name': 'mystery'}, {'id': 1054...   \n",
       "4                                                   NaN   \n",
       "...                                                 ...   \n",
       "2995  [{'id': 378, 'name': 'prison'}, {'id': 572, 'n...   \n",
       "2996  [{'id': 1192, 'name': 'sweden'}, {'id': 4470, ...   \n",
       "2997  [{'id': 441, 'name': 'assassination'}, {'id': ...   \n",
       "2998  [{'id': 966, 'name': 'beach'}, {'id': 2676, 'n...   \n",
       "2999  [{'id': 591, 'name': 'cia'}, {'id': 822, 'name...   \n",
       "\n",
       "                                                   cast   \n",
       "0     [{'cast_id': 4, 'character': 'Lou', 'credit_id...  \\\n",
       "1     [{'cast_id': 1, 'character': 'Mia Thermopolis'...   \n",
       "2     [{'cast_id': 5, 'character': 'Andrew Neimann',...   \n",
       "3     [{'cast_id': 1, 'character': 'Vidya Bagchi', '...   \n",
       "4     [{'cast_id': 3, 'character': 'Chun-soo', 'cred...   \n",
       "...                                                 ...   \n",
       "2995  [{'cast_id': 2, 'character': 'Rock Reilly', 'c...   \n",
       "2996  [{'cast_id': 5, 'character': 'Bobo', 'credit_i...   \n",
       "2997  [{'cast_id': 10, 'character': 'Samantha Caine ...   \n",
       "2998  [{'cast_id': 8, 'character': 'Reuben Feffer', ...   \n",
       "2999  [{'cast_id': 2, 'character': 'Nathan Harper', ...   \n",
       "\n",
       "                                                   crew    revenue   \n",
       "0     [{'credit_id': '59ac067c92514107af02c8c8', 'de...   12314651  \\\n",
       "1     [{'credit_id': '52fe43fe9251416c7502563d', 'de...   95149435   \n",
       "2     [{'credit_id': '54d5356ec3a3683ba0000039', 'de...   13092000   \n",
       "3     [{'credit_id': '52fe48779251416c9108d6eb', 'de...   16000000   \n",
       "4     [{'credit_id': '52fe464b9251416c75073b43', 'de...    3923970   \n",
       "...                                                 ...        ...   \n",
       "2995  [{'credit_id': '52fe4494c3a368484e02ac7d', 'de...    1596687   \n",
       "2996  [{'credit_id': '5716b72ac3a3686678012c84', 'de...     180590   \n",
       "2997  [{'credit_id': '52fe443a9251416c7502d579', 'de...   89456761   \n",
       "2998  [{'credit_id': '556f817b9251410866000a63', 'de...  171963386   \n",
       "2999  [{'credit_id': '5391990d0e0a260fb5001629', 'de...   82087155   \n",
       "\n",
       "     release_day release_month release_year release_weekday   \n",
       "0             20             2         2015               4  \\\n",
       "1              6             8         2004               4   \n",
       "2             10            10         2014               4   \n",
       "3              9             3         2012               4   \n",
       "4              5             2         2009               3   \n",
       "...          ...           ...          ...             ...   \n",
       "2995          22             4         1994               4   \n",
       "2996          28             3         2013               3   \n",
       "2997          11            10         1996               4   \n",
       "2998          16             1         2004               4   \n",
       "2999          22             9         2011               3   \n",
       "\n",
       "     release_day_is_holiday  \n",
       "0                        []  \n",
       "1                        []  \n",
       "2                        []  \n",
       "3                        []  \n",
       "4                        []  \n",
       "...                     ...  \n",
       "2995                     []  \n",
       "2996                     []  \n",
       "2997                     []  \n",
       "2998                     []  \n",
       "2999                     []  \n",
       "\n",
       "[3000 rows x 27 columns]"
      ]
     },
     "execution_count": 75,
     "metadata": {},
     "output_type": "execute_result"
    }
   ],
   "source": [
    "df"
   ]
  }
 ],
 "metadata": {
  "kernelspec": {
   "display_name": "Python 3",
   "language": "python",
   "name": "python3"
  },
  "language_info": {
   "codemirror_mode": {
    "name": "ipython",
    "version": 3
   },
   "file_extension": ".py",
   "mimetype": "text/x-python",
   "name": "python",
   "nbconvert_exporter": "python",
   "pygments_lexer": "ipython3",
   "version": "3.10.4"
  },
  "orig_nbformat": 4
 },
 "nbformat": 4,
 "nbformat_minor": 2
}
